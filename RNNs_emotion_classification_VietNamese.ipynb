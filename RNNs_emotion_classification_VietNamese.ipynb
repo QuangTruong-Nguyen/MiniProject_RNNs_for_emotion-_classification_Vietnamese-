{
  "cells": [
    {
      "cell_type": "markdown",
      "metadata": {
        "id": "S9qsDedW7j_A"
      },
      "source": [
        "# Pattern Recognition and Machine Learning, Lab Assignment – 02"
      ]
    },
    {
      "cell_type": "markdown",
      "source": [
        "## Install package"
      ],
      "metadata": {
        "id": "GU5gvl4CWJLG"
      }
    },
    {
      "cell_type": "code",
      "execution_count": 1,
      "metadata": {
        "colab": {
          "base_uri": "https://localhost:8080/"
        },
        "id": "GnS35SzZyReM",
        "outputId": "fe04f43c-f7c6-4440-ab96-4cc681d6f5a5"
      },
      "outputs": [
        {
          "output_type": "stream",
          "name": "stdout",
          "text": [
            "Requirement already satisfied: torchtext in /usr/local/lib/python3.10/dist-packages (0.16.0)\n",
            "Requirement already satisfied: tqdm in /usr/local/lib/python3.10/dist-packages (from torchtext) (4.66.1)\n",
            "Requirement already satisfied: requests in /usr/local/lib/python3.10/dist-packages (from torchtext) (2.31.0)\n",
            "Requirement already satisfied: torch==2.1.0 in /usr/local/lib/python3.10/dist-packages (from torchtext) (2.1.0+cu121)\n",
            "Requirement already satisfied: numpy in /usr/local/lib/python3.10/dist-packages (from torchtext) (1.23.5)\n",
            "Requirement already satisfied: torchdata==0.7.0 in /usr/local/lib/python3.10/dist-packages (from torchtext) (0.7.0)\n",
            "Requirement already satisfied: filelock in /usr/local/lib/python3.10/dist-packages (from torch==2.1.0->torchtext) (3.13.1)\n",
            "Requirement already satisfied: typing-extensions in /usr/local/lib/python3.10/dist-packages (from torch==2.1.0->torchtext) (4.5.0)\n",
            "Requirement already satisfied: sympy in /usr/local/lib/python3.10/dist-packages (from torch==2.1.0->torchtext) (1.12)\n",
            "Requirement already satisfied: networkx in /usr/local/lib/python3.10/dist-packages (from torch==2.1.0->torchtext) (3.2.1)\n",
            "Requirement already satisfied: jinja2 in /usr/local/lib/python3.10/dist-packages (from torch==2.1.0->torchtext) (3.1.2)\n",
            "Requirement already satisfied: fsspec in /usr/local/lib/python3.10/dist-packages (from torch==2.1.0->torchtext) (2023.6.0)\n",
            "Requirement already satisfied: triton==2.1.0 in /usr/local/lib/python3.10/dist-packages (from torch==2.1.0->torchtext) (2.1.0)\n",
            "Requirement already satisfied: urllib3>=1.25 in /usr/local/lib/python3.10/dist-packages (from torchdata==0.7.0->torchtext) (2.0.7)\n",
            "Requirement already satisfied: charset-normalizer<4,>=2 in /usr/local/lib/python3.10/dist-packages (from requests->torchtext) (3.3.2)\n",
            "Requirement already satisfied: idna<4,>=2.5 in /usr/local/lib/python3.10/dist-packages (from requests->torchtext) (3.6)\n",
            "Requirement already satisfied: certifi>=2017.4.17 in /usr/local/lib/python3.10/dist-packages (from requests->torchtext) (2023.11.17)\n",
            "Requirement already satisfied: MarkupSafe>=2.0 in /usr/local/lib/python3.10/dist-packages (from jinja2->torch==2.1.0->torchtext) (2.1.3)\n",
            "Requirement already satisfied: mpmath>=0.19 in /usr/local/lib/python3.10/dist-packages (from sympy->torch==2.1.0->torchtext) (1.3.0)\n",
            "Collecting underthesea\n",
            "  Downloading underthesea-6.8.0-py3-none-any.whl (20.9 MB)\n",
            "\u001b[2K     \u001b[90m━━━━━━━━━━━━━━━━━━━━━━━━━━━━━━━━━━━━━━━━\u001b[0m \u001b[32m20.9/20.9 MB\u001b[0m \u001b[31m25.7 MB/s\u001b[0m eta \u001b[36m0:00:00\u001b[0m\n",
            "\u001b[?25hRequirement already satisfied: Click>=6.0 in /usr/local/lib/python3.10/dist-packages (from underthesea) (8.1.7)\n",
            "Collecting python-crfsuite>=0.9.6 (from underthesea)\n",
            "  Downloading python_crfsuite-0.9.10-cp310-cp310-manylinux_2_17_x86_64.manylinux2014_x86_64.whl (1.1 MB)\n",
            "\u001b[2K     \u001b[90m━━━━━━━━━━━━━━━━━━━━━━━━━━━━━━━━━━━━━━━━\u001b[0m \u001b[32m1.1/1.1 MB\u001b[0m \u001b[31m37.0 MB/s\u001b[0m eta \u001b[36m0:00:00\u001b[0m\n",
            "\u001b[?25hRequirement already satisfied: nltk in /usr/local/lib/python3.10/dist-packages (from underthesea) (3.8.1)\n",
            "Requirement already satisfied: tqdm in /usr/local/lib/python3.10/dist-packages (from underthesea) (4.66.1)\n",
            "Requirement already satisfied: requests in /usr/local/lib/python3.10/dist-packages (from underthesea) (2.31.0)\n",
            "Requirement already satisfied: joblib in /usr/local/lib/python3.10/dist-packages (from underthesea) (1.3.2)\n",
            "Requirement already satisfied: scikit-learn in /usr/local/lib/python3.10/dist-packages (from underthesea) (1.2.2)\n",
            "Requirement already satisfied: PyYAML in /usr/local/lib/python3.10/dist-packages (from underthesea) (6.0.1)\n",
            "Collecting underthesea-core==1.0.4 (from underthesea)\n",
            "  Downloading underthesea_core-1.0.4-cp310-cp310-manylinux2010_x86_64.whl (657 kB)\n",
            "\u001b[2K     \u001b[90m━━━━━━━━━━━━━━━━━━━━━━━━━━━━━━━━━━━━━━━━\u001b[0m \u001b[32m657.8/657.8 kB\u001b[0m \u001b[31m32.0 MB/s\u001b[0m eta \u001b[36m0:00:00\u001b[0m\n",
            "\u001b[?25hRequirement already satisfied: regex>=2021.8.3 in /usr/local/lib/python3.10/dist-packages (from nltk->underthesea) (2023.6.3)\n",
            "Requirement already satisfied: charset-normalizer<4,>=2 in /usr/local/lib/python3.10/dist-packages (from requests->underthesea) (3.3.2)\n",
            "Requirement already satisfied: idna<4,>=2.5 in /usr/local/lib/python3.10/dist-packages (from requests->underthesea) (3.6)\n",
            "Requirement already satisfied: urllib3<3,>=1.21.1 in /usr/local/lib/python3.10/dist-packages (from requests->underthesea) (2.0.7)\n",
            "Requirement already satisfied: certifi>=2017.4.17 in /usr/local/lib/python3.10/dist-packages (from requests->underthesea) (2023.11.17)\n",
            "Requirement already satisfied: numpy>=1.17.3 in /usr/local/lib/python3.10/dist-packages (from scikit-learn->underthesea) (1.23.5)\n",
            "Requirement already satisfied: scipy>=1.3.2 in /usr/local/lib/python3.10/dist-packages (from scikit-learn->underthesea) (1.11.4)\n",
            "Requirement already satisfied: threadpoolctl>=2.0.0 in /usr/local/lib/python3.10/dist-packages (from scikit-learn->underthesea) (3.2.0)\n",
            "Installing collected packages: underthesea-core, python-crfsuite, underthesea\n",
            "Successfully installed python-crfsuite-0.9.10 underthesea-6.8.0 underthesea-core-1.0.4\n",
            "Collecting emoji\n",
            "  Downloading emoji-2.9.0-py2.py3-none-any.whl (397 kB)\n",
            "\u001b[2K     \u001b[90m━━━━━━━━━━━━━━━━━━━━━━━━━━━━━━━━━━━━━━━━\u001b[0m \u001b[32m397.5/397.5 kB\u001b[0m \u001b[31m3.8 MB/s\u001b[0m eta \u001b[36m0:00:00\u001b[0m\n",
            "\u001b[?25hInstalling collected packages: emoji\n",
            "Successfully installed emoji-2.9.0\n"
          ]
        }
      ],
      "source": [
        "!pip install torchtext\n",
        "!pip install underthesea\n",
        "!pip install emoji"
      ]
    },
    {
      "cell_type": "code",
      "execution_count": 2,
      "metadata": {
        "id": "XV6Wn0U67_pC",
        "colab": {
          "base_uri": "https://localhost:8080/"
        },
        "outputId": "045112b0-0c41-4dec-f961-d6819fe44a60"
      },
      "outputs": [
        {
          "output_type": "stream",
          "name": "stdout",
          "text": [
            "Mounted at /content/drive\n"
          ]
        }
      ],
      "source": [
        "from google.colab import drive\n",
        "\n",
        "drive.mount('/content/drive')"
      ]
    },
    {
      "cell_type": "markdown",
      "metadata": {
        "id": "yiGP-rXG7463"
      },
      "source": [
        "## Library"
      ]
    },
    {
      "cell_type": "code",
      "execution_count": 3,
      "metadata": {
        "id": "_AYC5e8v7itS"
      },
      "outputs": [],
      "source": [
        "import pandas as pd\n",
        "import matplotlib.pyplot as plt\n",
        "import seaborn as sns\n",
        "from sklearn.metrics import precision_score, recall_score, f1_score, accuracy_score\n",
        "from sklearn.metrics import precision_recall_fscore_support\n",
        "import emoji\n",
        "import re\n",
        "import os\n",
        "import torch\n",
        "from torch.utils.data import Dataset"
      ]
    },
    {
      "cell_type": "markdown",
      "metadata": {
        "id": "chb2K7NNBXRs"
      },
      "source": [
        "## Data Exploration"
      ]
    },
    {
      "cell_type": "code",
      "source": [
        "def Analyze_data(path, type=\"train\"):\n",
        "  data=pd.read_excel(path)\n",
        "\n",
        "  emotion_frequency = data[\"Emotion\"].value_counts().reset_index()\n",
        "  emotion_frequency.columns = [\"Emotion\", \"Frequency\"]\n",
        "  print(emotion_frequency)\n",
        "  data= data.iloc[:,1:]\n",
        "\n",
        "  # sns.set()\n",
        "  data.Emotion.value_counts().plot.bar()\n",
        "  plt.title(type)\n",
        "  plt.show()"
      ],
      "metadata": {
        "id": "T5zuzMouWO7n"
      },
      "execution_count": 4,
      "outputs": []
    },
    {
      "cell_type": "code",
      "source": [
        "url_train=\"/content/drive/MyDrive/Pattern Recognition/lab02/Homework/train_nor_811.xlsx\"\n",
        "Analyze_data(url_train)"
      ],
      "metadata": {
        "id": "woxG0VRZYNgE",
        "colab": {
          "base_uri": "https://localhost:8080/",
          "height": 652
        },
        "outputId": "bacc0baf-5274-414d-e0b0-dd6fcda3cf27"
      },
      "execution_count": 5,
      "outputs": [
        {
          "output_type": "stream",
          "name": "stdout",
          "text": [
            "     Emotion  Frequency\n",
            "0  Enjoyment       1558\n",
            "1    Disgust       1071\n",
            "2      Other       1021\n",
            "3    Sadness        947\n",
            "4      Anger        391\n",
            "5       Fear        318\n",
            "6   Surprise        242\n"
          ]
        },
        {
          "output_type": "display_data",
          "data": {
            "text/plain": [
              "<Figure size 640x480 with 1 Axes>"
            ],
            "image/png": "[encoded data removed]"
          },
          "metadata": {}
        }
      ]
    },
    {
      "cell_type": "code",
      "source": [
        "url_train=\"/content/drive/MyDrive/Pattern Recognition/lab02/Homework/valid_nor_811.xlsx\"\n",
        "Analyze_data(url_train,type=\"Valid\")"
      ],
      "metadata": {
        "id": "yx2paI2dY6F9",
        "colab": {
          "base_uri": "https://localhost:8080/",
          "height": 652
        },
        "outputId": "bbadc735-9553-4383-dbd1-a06e3643554f"
      },
      "execution_count": 6,
      "outputs": [
        {
          "output_type": "stream",
          "name": "stdout",
          "text": [
            "     Emotion  Frequency\n",
            "0  Enjoyment        214\n",
            "1      Other        141\n",
            "2    Disgust        135\n",
            "3    Sadness         86\n",
            "4      Anger         49\n",
            "5       Fear         31\n",
            "6   Surprise         30\n"
          ]
        },
        {
          "output_type": "display_data",
          "data": {
            "text/plain": [
              "<Figure size 640x480 with 1 Axes>"
            ],
            "image/png": "[encoded data removed]"
          },
          "metadata": {}
        }
      ]
    },
    {
      "cell_type": "code",
      "source": [
        "url_train=\"/content/drive/MyDrive/Pattern Recognition/lab02/Homework/test_nor_811.xlsx\"\n",
        "Analyze_data(url_train,type=\"Valid\")"
      ],
      "metadata": {
        "id": "gwf3Fwb8ZDL3",
        "colab": {
          "base_uri": "https://localhost:8080/",
          "height": 652
        },
        "outputId": "f7cf6bdc-bbcd-4cef-9dac-2b33103acf3d"
      },
      "execution_count": 7,
      "outputs": [
        {
          "output_type": "stream",
          "name": "stdout",
          "text": [
            "     Emotion  Frequency\n",
            "0  Enjoyment        193\n",
            "1    Disgust        132\n",
            "2      Other        129\n",
            "3    Sadness        116\n",
            "4       Fear         46\n",
            "5      Anger         40\n",
            "6   Surprise         37\n"
          ]
        },
        {
          "output_type": "display_data",
          "data": {
            "text/plain": [
              "<Figure size 640x480 with 1 Axes>"
            ],
            "image/png": "[encoded data removed]"
          },
          "metadata": {}
        }
      ]
    },
    {
      "cell_type": "markdown",
      "metadata": {
        "id": "ufGU9op06YRz"
      },
      "source": [
        "## Data Preparation"
      ]
    },
    {
      "cell_type": "markdown",
      "source": [
        "### Transfer Learning"
      ],
      "metadata": {
        "id": "DuRZpPeYe2st"
      }
    },
    {
      "cell_type": "code",
      "execution_count": 8,
      "metadata": {
        "id": "viQW6vs56agE"
      },
      "outputs": [],
      "source": [
        "import torch\n",
        "from tqdm import tqdm\n",
        "from underthesea import word_tokenize\n",
        "\n",
        "class Vocabulary:\n",
        "    \"\"\" The Vocabulary class is used to record words, which are used to convert\n",
        "        text to numbers and vice versa.\n",
        "    \"\"\"\n",
        "\n",
        "    def __init__(self):\n",
        "        self.word2id = dict()\n",
        "        self.word2id['<pad>'] = 0   # Pad Token\n",
        "        self.word2id['<unk>'] = 1   # Unknown Token\n",
        "        self.unk_id = self.word2id['<unk>']\n",
        "        self.id2word = {v: k for k, v in self.word2id.items()}\n",
        "\n",
        "    def __getitem__(self, word):\n",
        "        return self.word2id.get(word, self.unk_id)\n",
        "\n",
        "    def __contains__(self, word):\n",
        "        return word in self.word2id\n",
        "\n",
        "    def __len__(self):\n",
        "        return len(self.word2id)\n",
        "\n",
        "    def lookup_tokens(self, word_indexes: list):\n",
        "        \"\"\"\n",
        "        @param word_indexes (list(int))\n",
        "        @return words (list(str))\n",
        "        \"\"\"\n",
        "        return [self.id2word[word_index] for word_index in word_indexes]\n",
        "\n",
        "    def add(self, word):\n",
        "        \"\"\" Add word to vocabulary\n",
        "        @param word (str)\n",
        "        @return index (str): index of the word just added\n",
        "        \"\"\"\n",
        "        if word not in self:\n",
        "            word_index = self.word2id[word] = len(self.word2id)\n",
        "            self.id2word[word_index] = word\n",
        "            return word_index\n",
        "        else:\n",
        "            return self[word]\n",
        "\n",
        "    @staticmethod\n",
        "    def tokenize_corpus(corpus):\n",
        "        \"\"\"Split the documents of the corpus into words\n",
        "        @param corpus (list(str)): list of documents\n",
        "        @return tokenized_corpus (list(list(str))): list of words\n",
        "        \"\"\"\n",
        "        print(\"Tokenize the corpus...\")\n",
        "        tokenized_corpus = list()\n",
        "        for document in tqdm(corpus):\n",
        "            tokenized_document = [word.replace(\" \", \"_\") for word in word_tokenize(document)]\n",
        "            tokenized_corpus.append(tokenized_document)\n",
        "\n",
        "        return tokenized_corpus\n",
        "\n",
        "    def corpus_to_tensor(self, corpus, is_tokenized=False):\n",
        "        \"\"\" Convert corpus to a list of indices tensor\n",
        "        @param corpus (list(str) if is_tokenized==False else list(list(str)))\n",
        "        @param is_tokenized (bool)\n",
        "        @return indicies_corpus (list(tensor))\n",
        "        \"\"\"\n",
        "        if is_tokenized:\n",
        "            tokenized_corpus = corpus\n",
        "        else:\n",
        "            tokenized_corpus = self.tokenize_corpus(corpus)\n",
        "        indicies_corpus = list()\n",
        "        for document in tqdm(tokenized_corpus):\n",
        "            indicies_document = torch.tensor(list(map(lambda word: self[word], document)), dtype=torch.int64)\n",
        "            indicies_corpus.append(indicies_document)\n",
        "\n",
        "        return indicies_corpus\n",
        "\n",
        "    def tensor_to_corpus(self, tensor):\n",
        "        \"\"\" Convert list of indices tensor to a list of tokenized documents\n",
        "        @param indicies_corpus (list(tensor))\n",
        "        @return corpus (list(list(str)))\n",
        "        \"\"\"\n",
        "        corpus = list()\n",
        "        for indicies in tqdm(tensor):\n",
        "            document = list(map(lambda index: self.id2word[index.item()], indicies))\n",
        "            corpus.append(document)\n",
        "\n",
        "        return corpus\n"
      ]
    },
    {
      "cell_type": "code",
      "execution_count": 9,
      "metadata": {
        "id": "TI34nSUx6kx8"
      },
      "outputs": [],
      "source": [
        "import torch\n",
        "from torchtext.vocab import Vectors\n",
        "\n",
        "def get_pretrained_word2vec(fpath):\n",
        "    return Vectors(name=fpath, unk_init=torch.Tensor.normal_)\n",
        "\n",
        "def create_vocab_from_word2vec(word_embedding):\n",
        "    vocab = Vocabulary()\n",
        "    words_list = list(word_embedding.stoi.keys())\n",
        "    for word in words_list:\n",
        "        vocab.add(word)\n",
        "    return vocab"
      ]
    },
    {
      "cell_type": "code",
      "source": [
        "##Load Word2vec 300 dim\n",
        "# word_embeddings = get_pretrained_word2vec('/content/drive/MyDrive/Pattern Recognition/lab02/word2vec_vi_syllables_300dims.txt')\n",
        "# vocabulary = create_vocab_from_word2vec(word_embeddings)"
      ],
      "metadata": {
        "id": "ZYeDzSHKB12f"
      },
      "execution_count": 10,
      "outputs": []
    },
    {
      "cell_type": "code",
      "execution_count": 11,
      "metadata": {
        "id": "bCIOFF3e12i7",
        "colab": {
          "base_uri": "https://localhost:8080/"
        },
        "outputId": "8ccb1deb-eb38-404c-b955-3986103ebb8b"
      },
      "outputs": [
        {
          "output_type": "stream",
          "name": "stderr",
          "text": [
            "  0%|          | 0/1587507 [00:00<?, ?it/s]WARNING:torchtext.vocab.vectors:Skipping token b'1587507' with 1-dimensional vector [b'100']; likely a header\n",
            "100%|██████████| 1587507/1587507 [01:30<00:00, 17508.75it/s]\n"
          ]
        }
      ],
      "source": [
        "#Load Word2vec 100 dim\n",
        "word_embeddings = get_pretrained_word2vec('/content/drive/MyDrive/Pattern Recognition/lab02/word2vec_vi_words_100dims.txt')\n",
        "vocabulary = create_vocab_from_word2vec(word_embeddings)"
      ]
    },
    {
      "cell_type": "markdown",
      "source": [
        "### Prepara Data"
      ],
      "metadata": {
        "id": "xJziJhscff78"
      }
    },
    {
      "cell_type": "code",
      "source": [
        "# Xử lý các emoji trùng gần nhau trong chuỗi\n",
        "# Ex: \"😄😄😄😄\" -> \"😄\"\n",
        "def remove_duplicate_emoji(string_list):\n",
        "    normalized_list = []\n",
        "\n",
        "    for original_string in string_list:\n",
        "\n",
        "      prev_emoji = None\n",
        "      remove_duplicate_emoji = []\n",
        "      for c in original_string:\n",
        "        if c in emoji.EMOJI_DATA: #emoji.UNICODE_EMOJI_ENGLISH:\n",
        "            if prev_emoji == c:\n",
        "                continue\n",
        "            prev_emoji = c\n",
        "        remove_duplicate_emoji.append(c)\n",
        "      normalized_list.append(\"\".join(remove_duplicate_emoji))\n",
        "    return normalized_list\n"
      ],
      "metadata": {
        "id": "6EDJog2d0OPK"
      },
      "execution_count": 12,
      "outputs": []
    },
    {
      "cell_type": "code",
      "execution_count": 13,
      "metadata": {
        "id": "tyUWsdDxCs1k"
      },
      "outputs": [],
      "source": [
        "## Xử lý các icon trong chuỗi. Ex: \":))))\"-> \":)\"\n",
        "def normalize_strings(string_list):\n",
        "    normalized_list = []\n",
        "    for original_string in string_list:\n",
        "        # Sử dụng biểu thức chính quy để thay thế nhiều dấu `)` liên tiếp bằng một ký hiệu `)`\n",
        "        normalized_string = re.sub(r'\\)+', ')', original_string)\n",
        "        normalized_string = re.sub(r'\\(+', '(', normalized_string)\n",
        "        normalized_string = re.sub(r'\\>+', '>', normalized_string)\n",
        "        normalized_string = re.sub(r'\\=+', '=', normalized_string)\n",
        "        normalized_string = re.sub(r'\\:+', ':', normalized_string)\n",
        "        normalized_string = re.sub(r'\\?+', '?', normalized_string)\n",
        "        normalized_string = re.sub(r'\\!+', '!', normalized_string)\n",
        "        # Thêm chuỗi đã chuẩn hóa vào danh sách\n",
        "        normalized_list.append(normalized_string)\n",
        "\n",
        "    return normalized_list"
      ]
    },
    {
      "cell_type": "code",
      "source": [
        "##xử lý các từ trong chuỗi có phần kỹ tự của từ bị lặp. Ex: \"đâyyyyyy\"-> \"đây\"\n",
        "\n",
        "def remove_duplicate_chars(input_str):\n",
        "    if len(input_str) <= 1:\n",
        "        return input_str\n",
        "\n",
        "    result_str = input_str[0]\n",
        "    for i in range(1, len(input_str)):\n",
        "        if input_str[i] != input_str[i - 1]:\n",
        "            result_str += input_str[i]\n",
        "\n",
        "    return result_str\n",
        "\n",
        "def process_list_of_strings(list_of_strings):\n",
        "    processed_list = [remove_duplicate_chars(s) for s in list_of_strings]\n",
        "    return processed_list"
      ],
      "metadata": {
        "id": "wSdbAveW_snp"
      },
      "execution_count": 14,
      "outputs": []
    },
    {
      "cell_type": "code",
      "source": [
        "## map một số emoji thành từ. Ex: \"😄\"-> \"vui mừng\"\n",
        "emoji_to_vietnamese = {\n",
        "\n",
        "    \"😄\": \"vui mừng\",\n",
        "    \"😂\": \"cười\",\n",
        "    \"😊\": \"hạnh phúc\",\n",
        "    \"😢\": \"buồn\",\n",
        "    \"😍\": \"ngưỡng mộ\",\n",
        "    \"😎\": \"phong cách\",\n",
        "    \"😡\": \"tức giận\",\n",
        "    \"😠\": \"tức giận\",\n",
        "    \"😤\": \"quạo\",\n",
        "    \"😁\": \"hài lòng\",\n",
        "    \"😓\": \"lo lắng\",\n",
        "    \"😇\": \"thiện chí\",\n",
        "    \"😘\": \"hôn\",\n",
        "    \"😰\": \"lo sợ\",\n",
        "    \"😆\": \"phấn khích\",\n",
        "    \"😐\": \"bình tĩnh\",\n",
        "    \"😑\": \"mặt trơ lời\",\n",
        "    \"😏\": \"nhìn chế\",\n",
        "    \"🤔\": \"nghi ngờ\",\n",
        "    \"😷\": \"ốm\",\n",
        "    \"🤢\": \"buồn nôn\",\n",
        "    \"🤣\": \"cười\",\n",
        "    \"🤮\": \"ói\",\n",
        "    \"😭\": \"khóc\"\n",
        "}\n",
        "\n",
        "\n",
        "def emoji_to_vietnamese_word(text):\n",
        "    words = text.split()\n",
        "    translated_words = [emoji_to_vietnamese.get(word, word) for word in words]\n",
        "    return \" \".join(translated_words)\n",
        "\n",
        "def process_emoji(list_str):\n",
        "  processed_list = [emoji_to_vietnamese_word(s) for s in list_str]\n",
        "  return processed_list"
      ],
      "metadata": {
        "id": "yfva7dpTDXTX"
      },
      "execution_count": 15,
      "outputs": []
    },
    {
      "cell_type": "code",
      "source": [
        "\n",
        "import re\n",
        "import sys\n",
        "## Xóa các emoji sau khi map một số các emoji\n",
        "def remove_emoji(string):\n",
        "    emoji_pattern = re.compile(\"[\"\n",
        "                           u\"\\U0001F600-\\U0001F64F\"  # emoticons\n",
        "                           u\"\\U0001F300-\\U0001F5FF\"  # symbols & pictographs\n",
        "                           u\"\\U0001F680-\\U0001F6FF\"  # transport & map symbols\n",
        "                           u\"\\U0001F1E0-\\U0001F1FF\"  # flags (iOS)\n",
        "                           u\"\\U00002702-\\U000027B0\"\n",
        "                           u\"\\U000024C2-\\U0001F251\"\n",
        "                           \"]+\", flags=re.UNICODE)\n",
        "    return emoji_pattern.sub(r'', string)\n",
        "\n",
        "def process_emoji2(list_str):\n",
        "  processed_list = [remove_emoji(s) for s in list_str]\n",
        "  return processed_list"
      ],
      "metadata": {
        "id": "ZnWRnQj6WOA4"
      },
      "execution_count": 16,
      "outputs": []
    },
    {
      "cell_type": "code",
      "source": [
        "## Map một số ký tự thích hợp với Word2vec\n",
        "dict_map = {\"òa\": \"oà\",\"Òa\": \"Oà\",\"ÒA\": \"OÀ\",\"óa\": \"oá\",\"Óa\": \"Oá\",\"ÓA\": \"OÁ\",\"ỏa\": \"oả\",\"Ỏa\": \"Oả\",\n",
        "    \"ỎA\": \"OẢ\",\"õa\": \"oã\",\"Õa\": \"Oã\",\"ÕA\": \"OÃ\",\"ọa\": \"oạ\",\"Ọa\": \"Oạ\",\"ỌA\": \"OẠ\",\"òe\": \"oè\",\"Òe\": \"Oè\",\"ÒE\": \"OÈ\",\n",
        "    \"óe\": \"oé\",\"Óe\": \"Oé\",\"ÓE\": \"OÉ\",\"ỏe\": \"oẻ\",\"Ỏe\": \"Oẻ\",\"ỎE\": \"OẺ\",\"õe\": \"oẽ\",\"Õe\": \"Oẽ\",\n",
        "    \"ÕE\": \"OẼ\",\"ọe\": \"oẹ\",\"Ọe\": \"Oẹ\",\"ỌE\": \"OẸ\",\"ùy\": \"uỳ\",\"Ùy\": \"Uỳ\",\"ÙY\": \"UỲ\",\"úy\": \"uý\",\n",
        "    \"Úy\": \"Uý\",\"ÚY\": \"UÝ\",\"ủy\": \"uỷ\",\"Ủy\": \"Uỷ\",\"ỦY\": \"UỶ\",\"ũy\": \"uỹ\",\"Ũy\": \"Uỹ\",\"ŨY\": \"UỸ\",\"ụy\": \"uỵ\",\n",
        "    \"Ụy\": \"Uỵ\",\"ỤY\": \"UỴ\",\n",
        "    }\n",
        "\n",
        "def replace_all(text, dict_map):\n",
        "    for i, j in dict_map.items():\n",
        "        text = text.replace(i, j)\n",
        "    return text\n",
        "def replace_list(list_str):\n",
        "  processed_list = [replace_all(s,dict_map) for s in list_str]\n",
        "  return processed_list"
      ],
      "metadata": {
        "id": "T24JMhM9bDqg"
      },
      "execution_count": 17,
      "outputs": []
    },
    {
      "cell_type": "code",
      "execution_count": 19,
      "metadata": {
        "id": "L0VRowwA9Cqi"
      },
      "outputs": [],
      "source": [
        "\n",
        "def load_dataset(data_dir):\n",
        "\n",
        "    df=pd.read_excel(data_dir)\n",
        "\n",
        "    labels=list(df[\"Emotion\"])\n",
        "    sents=list(df[\"Sentence\"])\n",
        "\n",
        "    #Xử lý các chuỗi\n",
        "\n",
        "    #Xử lý dấu (\\,/,?,~)\n",
        "    sents=replace_list(sents)\n",
        "\n",
        "    #xử lý icon dư dấu ngoặc\n",
        "    sents=normalize_strings(sents)\n",
        "\n",
        "    # xử lý các  emoji gần nhau giống nhau\n",
        "    sents=remove_duplicate_emoji(sents)\n",
        "\n",
        "    #xử lý các chuỗi bị lặp ký tự\n",
        "    sents=process_list_of_strings(sents)\n",
        "\n",
        "    #map các emoji thành word\n",
        "    sents=process_emoji(sents)\n",
        "\n",
        "    #xóa các emoji chưa map được\n",
        "    sents=process_emoji2(sents)\n",
        "\n",
        "    return sents, labels"
      ]
    },
    {
      "cell_type": "code",
      "execution_count": 20,
      "metadata": {
        "id": "J57SvaUU8rPA"
      },
      "outputs": [],
      "source": [
        "\n",
        "\n",
        "class UITVSMECDataset(Dataset):\n",
        "    def __init__(self, vocab, fpath=None, tokenized_fpath=None):\n",
        "        \"\"\"\n",
        "        @param vocab (Vocabulary)\n",
        "        @param txt_fpath (str)\n",
        "        @param tokenized_fpath (str)\n",
        "        \"\"\"\n",
        "        self.vocab = vocab\n",
        "        self.pad_idx = vocab[\"<pad>\"]\n",
        "\n",
        "        self.sentences,_ = load_dataset(fpath)\n",
        "        _,self.sentiments = load_dataset(fpath)\n",
        "\n",
        "        sentiments_type = list(set(self.sentiments))\n",
        "        sentiments_type.sort()\n",
        "\n",
        "        self.sentiment2id = {sentiment: i for i, sentiment in enumerate(sentiments_type)}\n",
        "\n",
        "        if tokenized_fpath:\n",
        "            self.tokenized_sentences = torch.load(tokenized_fpath)\n",
        "        else:\n",
        "            self.tokenized_sentences = self.vocab.tokenize_corpus(self.sentences)\n",
        "\n",
        "        self.tensor_data = self.vocab.corpus_to_tensor(self.tokenized_sentences, is_tokenized=True)\n",
        "        self.tensor_label = torch.tensor([self.sentiment2id[sentiment] for sentiment in self.sentiments],\n",
        "                                          dtype=torch.long)\n",
        "\n",
        "    def __len__(self):\n",
        "        return len(self.tensor_data)\n",
        "\n",
        "    def __getitem__(self, idx):\n",
        "        return self.tensor_data[idx], self.tensor_label[idx]\n",
        "\n",
        "    def collate_fn(self, examples):\n",
        "        examples = sorted(examples, key=lambda e: len(e[0]), reverse=True)\n",
        "\n",
        "        feedbacks = [e[0] for e in examples]\n",
        "        # padding tokens\n",
        "        feedbacks = torch.nn.utils.rnn.pad_sequence(feedbacks,\n",
        "                                                    batch_first=True,\n",
        "                                                    padding_value=self.pad_idx)\n",
        "\n",
        "        feedback_lengths = torch.tensor([len(e[0]) for e in examples])\n",
        "        sentiments = torch.tensor([e[1] for e in examples])\n",
        "\n",
        "        return {\"inputs\": (feedbacks, feedback_lengths), \"labels\": sentiments}"
      ]
    },
    {
      "cell_type": "code",
      "execution_count": 21,
      "metadata": {
        "colab": {
          "base_uri": "https://localhost:8080/"
        },
        "id": "HrubQuQTDtmp",
        "outputId": "42302585-fc1d-4fd3-a7e5-6d32baa1320e"
      },
      "outputs": [
        {
          "output_type": "stream",
          "name": "stdout",
          "text": [
            "Tokenize the corpus...\n"
          ]
        },
        {
          "output_type": "stream",
          "name": "stderr",
          "text": [
            "100%|██████████| 5548/5548 [00:05<00:00, 947.27it/s] \n",
            "100%|██████████| 5548/5548 [00:00<00:00, 90993.34it/s]\n"
          ]
        },
        {
          "output_type": "stream",
          "name": "stdout",
          "text": [
            "Tokenize the corpus...\n"
          ]
        },
        {
          "output_type": "stream",
          "name": "stderr",
          "text": [
            "100%|██████████| 693/693 [00:00<00:00, 1384.69it/s]\n",
            "100%|██████████| 693/693 [00:00<00:00, 58250.72it/s]\n"
          ]
        },
        {
          "output_type": "stream",
          "name": "stdout",
          "text": [
            "Tokenize the corpus...\n"
          ]
        },
        {
          "output_type": "stream",
          "name": "stderr",
          "text": [
            "100%|██████████| 686/686 [00:00<00:00, 1307.56it/s]\n",
            "100%|██████████| 686/686 [00:00<00:00, 49661.58it/s]\n"
          ]
        }
      ],
      "source": [
        "train_dataset = UITVSMECDataset(vocab=vocabulary, fpath=\"/content/drive/MyDrive/Pattern Recognition/lab02/Homework/train_nor_811.xlsx\")\n",
        "test_dataset = UITVSMECDataset(vocab=vocabulary, fpath=\"/content/drive/MyDrive/Pattern Recognition/lab02/Homework/test_nor_811.xlsx\")\n",
        "val_dataset = UITVSMECDataset(vocab=vocabulary, fpath=\"/content/drive/MyDrive/Pattern Recognition/lab02/Homework/valid_nor_811.xlsx\")"
      ]
    },
    {
      "cell_type": "code",
      "source": [],
      "metadata": {
        "id": "ZgA5051KX8PV"
      },
      "execution_count": null,
      "outputs": []
    },
    {
      "cell_type": "markdown",
      "metadata": {
        "id": "fecKTuppMF-O"
      },
      "source": [
        "### Data loader"
      ]
    },
    {
      "cell_type": "code",
      "execution_count": 27,
      "metadata": {
        "id": "gTwMaw9cGrga"
      },
      "outputs": [],
      "source": [
        "from torch.utils.data import DataLoader\n",
        "\n",
        "train_dataloader = DataLoader(train_dataset, batch_size=32, collate_fn=train_dataset.collate_fn)\n",
        "val_dataloader = DataLoader(val_dataset, batch_size=32, collate_fn=val_dataset.collate_fn)\n",
        "test_dataloader = DataLoader(test_dataset, batch_size=32, collate_fn=test_dataset.collate_fn)"
      ]
    },
    {
      "cell_type": "code",
      "execution_count": 28,
      "metadata": {
        "id": "zIWR6WKI1v8b"
      },
      "outputs": [],
      "source": [
        "batch = next(iter(train_dataloader))"
      ]
    },
    {
      "cell_type": "code",
      "execution_count": 29,
      "metadata": {
        "colab": {
          "base_uri": "https://localhost:8080/"
        },
        "id": "Uc7q81VA16qT",
        "outputId": "6b808011-909c-4ab7-9c23-1337bb5c5e85"
      },
      "outputs": [
        {
          "output_type": "execute_result",
          "data": {
            "text/plain": [
              "tensor([43, 39, 27, 25, 21, 18, 17, 17, 16, 16, 16, 16, 15, 14, 14, 13, 12, 12,\n",
              "        11, 10, 10, 10,  9,  9,  9,  8,  7,  7,  5,  4,  4,  4])"
            ]
          },
          "metadata": {},
          "execution_count": 29
        }
      ],
      "source": [
        "batch['inputs'][1]"
      ]
    },
    {
      "cell_type": "code",
      "execution_count": 30,
      "metadata": {
        "colab": {
          "base_uri": "https://localhost:8080/"
        },
        "id": "vYoN_22C18pa",
        "outputId": "7b1953d3-0a02-44fd-e39e-505d19b95b2e"
      },
      "outputs": [
        {
          "output_type": "execute_result",
          "data": {
            "text/plain": [
              "tensor([0, 0, 5, 5, 0, 2, 1, 3, 5, 4, 2, 0, 4, 2, 5, 3, 1, 6, 2, 4, 3, 3, 6, 1,\n",
              "        1, 1, 4, 4, 2, 4, 2, 2])"
            ]
          },
          "metadata": {},
          "execution_count": 30
        }
      ],
      "source": [
        "batch['labels']"
      ]
    },
    {
      "cell_type": "markdown",
      "metadata": {
        "id": "ULFlKMcV2D1u"
      },
      "source": [
        "##  Build an RNN Model"
      ]
    },
    {
      "cell_type": "code",
      "execution_count": 31,
      "metadata": {
        "id": "CWlYEWyP2DjV"
      },
      "outputs": [],
      "source": [
        "import torch\n",
        "import torch.nn as nn\n",
        "\n",
        "class LSTM(nn.Module):\n",
        "    def __init__(self, vocab_size, embedding_dim, hidden_dim, n_layers, n_labels, bidirectional, dropout, pad_idx):\n",
        "        \"\"\"\n",
        "        @param vocab_size (int)\n",
        "        @param embedding_dim (int)\n",
        "        @param hidden_dim (int)\n",
        "        @param n_layers (int)\n",
        "        @param n_labels (int)\n",
        "        @param bidirectional (bool)\n",
        "        @param dropout (float)\n",
        "        @param pad_idx (int)\n",
        "        \"\"\"\n",
        "        super().__init__()\n",
        "\n",
        "        self.embedding = nn.Embedding(vocab_size, embedding_dim, padding_idx = pad_idx) # embedding layer\n",
        "        self.bn = nn.BatchNorm1d(embedding_dim)\n",
        "\n",
        "        self.lstm = nn.LSTM(embedding_dim,\n",
        "                            hidden_dim,\n",
        "                            num_layers=n_layers,\n",
        "                            bidirectional=bidirectional,\n",
        "                            dropout=dropout)\n",
        "\n",
        "        self.fc = nn.Linear(hidden_dim * 2 if bidirectional else hidden_dim, n_labels)\n",
        "\n",
        "        self.dropout = nn.Dropout(dropout)\n",
        "\n",
        "    def forward(self, text):\n",
        "        \"\"\"\n",
        "        @param text (torch.Tensor): shape = [batch_size, seq_len]\n",
        "        \"\"\"\n",
        "        embeds = self.embedding(text) # (bsz, seq_len, hidden_dim)\n",
        "        bn_embeds = self.bn(embeds.permute(0,2,1)).permute(0,2,1) # batchnorm1d requires input shape (bsz, hidden_dim, seq_len)\n",
        "        # bn_embeds = self.dropout(bn_embeds)\n",
        "\n",
        "        output, (hidden, cell) = self.lstm(bn_embeds.permute(1,0,2)) # (C, B, H)\n",
        "        last_hidden = output[-1] # 1,....,T\n",
        "        last_hidden = self.dropout(last_hidden)\n",
        "        return self.fc(last_hidden)"
      ]
    },
    {
      "cell_type": "code",
      "execution_count": 32,
      "metadata": {
        "id": "fDX6IKe51-sr"
      },
      "outputs": [],
      "source": [
        "def get_model(vocab, word_embedding, embedding_dim, hidden_dim, n_layers, n_labels, bidirectional, dropout, device=None):\n",
        "    input_dim = word_embedding.vectors.shape[0]\n",
        "    pad_idx = vocab[\"<pad>\"]\n",
        "    unk_idx = vocab[\"<unk>\"]\n",
        "\n",
        "    model = LSTM(input_dim, embedding_dim, hidden_dim,  n_layers, n_labels, bidirectional, dropout, pad_idx)\n",
        "\n",
        "    # load pretrained word embeddings\n",
        "    model.embedding.weight.data.copy_(word_embedding.vectors)\n",
        "\n",
        "    # Đóng băng trọng số lớp embedding\n",
        "    # model.embedding.weight.requires_grad = False\n",
        "\n",
        "    model.embedding.weight.data[unk_idx] = torch.zeros(embedding_dim)\n",
        "    model.embedding.weight.data[pad_idx] = torch.zeros(embedding_dim)\n",
        "\n",
        "    model.to(device)\n",
        "    return model"
      ]
    },
    {
      "cell_type": "markdown",
      "metadata": {
        "id": "INlRKowYckLN"
      },
      "source": [
        "## Prepare Train"
      ]
    },
    {
      "cell_type": "markdown",
      "source": [
        "### Getmodel"
      ],
      "metadata": {
        "id": "7P-PdnuKifPf"
      }
    },
    {
      "cell_type": "code",
      "execution_count": 57,
      "metadata": {
        "id": "qkUKV2c-3Sq8"
      },
      "outputs": [],
      "source": [
        "device = torch.device(\"cuda\" if torch.cuda.is_available() else \"cpu\")\n",
        "\n",
        "model = get_model(vocab=vocabulary, word_embedding=word_embeddings, embedding_dim=100,\n",
        "                  hidden_dim=512, n_layers=2, n_labels=7, bidirectional=True, dropout=0.1, device=device)"
      ]
    },
    {
      "cell_type": "code",
      "execution_count": 58,
      "metadata": {
        "colab": {
          "base_uri": "https://localhost:8080/"
        },
        "id": "kQkHXDkM4N5G",
        "outputId": "f8826f68-6a7b-4109-a621-66ecb9fccd17"
      },
      "outputs": [
        {
          "output_type": "execute_result",
          "data": {
            "text/plain": [
              "LSTM(\n",
              "  (embedding): Embedding(1587507, 100, padding_idx=0)\n",
              "  (bn): BatchNorm1d(100, eps=1e-05, momentum=0.1, affine=True, track_running_stats=True)\n",
              "  (lstm): LSTM(100, 512, num_layers=2, dropout=0.1, bidirectional=True)\n",
              "  (fc): Linear(in_features=1024, out_features=7, bias=True)\n",
              "  (dropout): Dropout(p=0.1, inplace=False)\n",
              ")"
            ]
          },
          "metadata": {},
          "execution_count": 58
        }
      ],
      "source": [
        "model"
      ]
    },
    {
      "cell_type": "code",
      "execution_count": 59,
      "metadata": {
        "id": "5pTzylXL5tEz"
      },
      "outputs": [],
      "source": [
        "def train(model, dataloader, optimizer, criterion, device):\n",
        "    \"\"\"\n",
        "    @param model (RNN)\n",
        "    @param dataloader (DataLoader)\n",
        "    @param optimizer (torch.optim)\n",
        "    @param criterion (torch.nn.modules.loss)\n",
        "    @param device (torch.device)\n",
        "    @return epoch_loss (float): model\"s loss of this epoch\n",
        "    \"\"\"\n",
        "    epoch_loss = 0\n",
        "    total = 0\n",
        "    correct = 0\n",
        "\n",
        "    model.train()\n",
        "\n",
        "    for batch in (pbar:=tqdm(dataloader)):\n",
        "        optimizer.zero_grad() # clear the gradient\n",
        "\n",
        "        # forward pass\n",
        "        feedbacks, _ = batch[\"inputs\"]\n",
        "        feedbacks = feedbacks.to(device)\n",
        "        logits = model(feedbacks)\n",
        "        labels = batch[\"labels\"].to(device)\n",
        "\n",
        "        loss = criterion(logits, labels)\n",
        "\n",
        "        # make prediction\n",
        "        _, preds = torch.max(logits, dim=1)\n",
        "        total += labels.size(0)\n",
        "        correct += (preds == labels).sum().item()\n",
        "\n",
        "        # backward pass and update params\n",
        "        loss.backward()\n",
        "        # torch.nn.utils.clip_grad_norm_(model.parameters(), 0.3)\n",
        "        optimizer.step()\n",
        "\n",
        "        pbar.set_postfix(loss=loss.item(), accuracy=correct/total)\n",
        "        epoch_loss += loss.item()\n",
        "\n",
        "    batch_num = len(dataloader)\n",
        "    return epoch_loss / batch_num, correct / total\n",
        "\n",
        "def evaluate(model, dataloader, criterion, device):\n",
        "    \"\"\"\n",
        "    @param model (RNN)\n",
        "    @param dataloader (DataLoader)\n",
        "    @param criterion (torch.nn.modules.loss)\n",
        "    @param device (torch.device)\n",
        "    @return epoch_loss (float): model's loss of this epoch\n",
        "    @return epoch_acc (float): model's accuracy of this epoch\n",
        "    \"\"\"\n",
        "    epoch_loss = 0\n",
        "    total = 0\n",
        "    correct = 0\n",
        "\n",
        "    model.eval()\n",
        "\n",
        "    with torch.no_grad():\n",
        "        for batch in dataloader:\n",
        "            feedbacks, _ = batch[\"inputs\"]\n",
        "            feedbacks = feedbacks.to(device)\n",
        "            logits = model(feedbacks)\n",
        "            labels = batch[\"labels\"].to(device)\n",
        "            loss = criterion(logits, labels)\n",
        "            _, preds = torch.max(logits, dim=1)\n",
        "            total += labels.size(0)\n",
        "            correct += (preds == labels).sum().item()\n",
        "\n",
        "            epoch_loss += loss.item()\n",
        "\n",
        "    batch_num = len(dataloader)\n",
        "    return epoch_loss / batch_num, correct / total"
      ]
    },
    {
      "cell_type": "markdown",
      "source": [
        "### Balanced_weight"
      ],
      "metadata": {
        "id": "Cvt6qU-Iir1-"
      }
    },
    {
      "cell_type": "code",
      "source": [
        "import numpy as np\n",
        "from sklearn.utils.class_weight import compute_class_weight\n",
        "# Do các data không cân bằng nhau thông qua phân tích từ Data Exploration nên\n",
        "# cần cân bằng các trọng số của các lớp\n",
        "\n",
        "def balanced_weight():\n",
        "\n",
        "  train_classes = train_dataset.tensor_label.numpy()\n",
        "  sentiments_type = list(set(train_classes))\n",
        "  sentiments_type.sort()\n",
        "  orig_weights = {idx: (train_classes==idx).sum()/len(train_classes) for idx in sentiments_type}\n",
        "\n",
        "  ## tính toán trọng số cân bằng cho từng loại nhãn\n",
        "  class_weights = compute_class_weight(class_weight = \"balanced\", classes = np.unique(train_classes), y = train_classes)\n",
        "  class_weights = dict(zip(np.unique(train_classes), class_weights))\n",
        "\n",
        "  class_weights = [class_weights[i] for i in range(len(class_weights))]\n",
        "  ## chuyển đổi danh sách trọng số thành tensor PyTorch và đưa nó lên thiết bị (device),\n",
        "  class_weights = torch.FloatTensor(class_weights).to(device)\n",
        "\n",
        "  return class_weights"
      ],
      "metadata": {
        "id": "XpfgM2xKh0Um"
      },
      "execution_count": 60,
      "outputs": []
    },
    {
      "cell_type": "code",
      "execution_count": 61,
      "metadata": {
        "id": "X9KtMiJg6u4u"
      },
      "outputs": [],
      "source": [
        "class_weights=balanced_weight()"
      ]
    },
    {
      "cell_type": "markdown",
      "source": [
        "### Optimal"
      ],
      "metadata": {
        "id": "7-YbN9H5ix18"
      }
    },
    {
      "cell_type": "code",
      "execution_count": 62,
      "metadata": {
        "id": "Jn2OyUcA69Om"
      },
      "outputs": [],
      "source": [
        "optim = torch.optim.AdamW(model.parameters(), lr=1e-3)\n",
        "loss_fn = torch.nn.CrossEntropyLoss(weight=class_weights)"
      ]
    },
    {
      "cell_type": "markdown",
      "metadata": {
        "id": "0dTKtqVocoAQ"
      },
      "source": [
        "## Train"
      ]
    },
    {
      "cell_type": "markdown",
      "source": [
        "### Training"
      ],
      "metadata": {
        "id": "FbPh8P8ckmDX"
      }
    },
    {
      "cell_type": "code",
      "execution_count": 63,
      "metadata": {
        "colab": {
          "base_uri": "https://localhost:8080/"
        },
        "id": "71LtfuUG7Aiz",
        "outputId": "b1a42643-17a7-426f-f5ab-91000f4a28b6"
      },
      "outputs": [
        {
          "output_type": "stream",
          "name": "stderr",
          "text": [
            "100%|██████████| 174/174 [00:14<00:00, 11.62it/s, accuracy=0.161, loss=1.97]\n"
          ]
        },
        {
          "output_type": "stream",
          "name": "stdout",
          "text": [
            "Epoch: 01 | Epoch Time: 0m 15s\n",
            "\tTrain Loss: 1.939 | Train Acc: 16.06%\n",
            "\t Val. Loss: 1.905 |  Val. Acc: 31.05%\n"
          ]
        },
        {
          "output_type": "stream",
          "name": "stderr",
          "text": [
            "100%|██████████| 174/174 [00:14<00:00, 11.65it/s, accuracy=0.177, loss=1.92]\n"
          ]
        },
        {
          "output_type": "stream",
          "name": "stdout",
          "text": [
            "Epoch: 02 | Epoch Time: 0m 15s\n",
            "\tTrain Loss: 1.930 | Train Acc: 17.68%\n",
            "\t Val. Loss: 1.908 |  Val. Acc: 29.01%\n"
          ]
        },
        {
          "output_type": "stream",
          "name": "stderr",
          "text": [
            "100%|██████████| 174/174 [00:14<00:00, 11.69it/s, accuracy=0.141, loss=1.77]\n"
          ]
        },
        {
          "output_type": "stream",
          "name": "stdout",
          "text": [
            "Epoch: 03 | Epoch Time: 0m 15s\n",
            "\tTrain Loss: 1.901 | Train Acc: 14.10%\n",
            "\t Val. Loss: 1.913 |  Val. Acc: 11.22%\n"
          ]
        },
        {
          "output_type": "stream",
          "name": "stderr",
          "text": [
            "100%|██████████| 174/174 [00:14<00:00, 11.71it/s, accuracy=0.214, loss=1.6]\n"
          ]
        },
        {
          "output_type": "stream",
          "name": "stdout",
          "text": [
            "Epoch: 04 | Epoch Time: 0m 15s\n",
            "\tTrain Loss: 1.737 | Train Acc: 21.40%\n",
            "\t Val. Loss: 1.744 |  Val. Acc: 29.01%\n"
          ]
        },
        {
          "output_type": "stream",
          "name": "stderr",
          "text": [
            "100%|██████████| 174/174 [00:14<00:00, 11.70it/s, accuracy=0.319, loss=1.35]\n"
          ]
        },
        {
          "output_type": "stream",
          "name": "stdout",
          "text": [
            "Epoch: 05 | Epoch Time: 0m 15s\n",
            "\tTrain Loss: 1.497 | Train Acc: 31.89%\n",
            "\t Val. Loss: 1.783 |  Val. Acc: 28.43%\n"
          ]
        },
        {
          "output_type": "stream",
          "name": "stderr",
          "text": [
            "100%|██████████| 174/174 [00:14<00:00, 11.70it/s, accuracy=0.43, loss=0.761]\n"
          ]
        },
        {
          "output_type": "stream",
          "name": "stdout",
          "text": [
            "Epoch: 06 | Epoch Time: 0m 15s\n",
            "\tTrain Loss: 1.256 | Train Acc: 43.04%\n",
            "\t Val. Loss: 1.810 |  Val. Acc: 34.99%\n"
          ]
        },
        {
          "output_type": "stream",
          "name": "stderr",
          "text": [
            "100%|██████████| 174/174 [00:14<00:00, 11.61it/s, accuracy=0.579, loss=0.717]\n"
          ]
        },
        {
          "output_type": "stream",
          "name": "stdout",
          "text": [
            "Epoch: 07 | Epoch Time: 0m 15s\n",
            "\tTrain Loss: 0.988 | Train Acc: 57.91%\n",
            "\t Val. Loss: 1.831 |  Val. Acc: 42.13%\n"
          ]
        },
        {
          "output_type": "stream",
          "name": "stderr",
          "text": [
            "100%|██████████| 174/174 [00:14<00:00, 11.60it/s, accuracy=0.673, loss=0.496]\n"
          ]
        },
        {
          "output_type": "stream",
          "name": "stdout",
          "text": [
            "Epoch: 08 | Epoch Time: 0m 15s\n",
            "\tTrain Loss: 0.771 | Train Acc: 67.27%\n",
            "\t Val. Loss: 1.937 |  Val. Acc: 43.00%\n"
          ]
        },
        {
          "output_type": "stream",
          "name": "stderr",
          "text": [
            "100%|██████████| 174/174 [00:14<00:00, 11.65it/s, accuracy=0.748, loss=0.317]\n"
          ]
        },
        {
          "output_type": "stream",
          "name": "stdout",
          "text": [
            "Epoch: 09 | Epoch Time: 0m 15s\n",
            "\tTrain Loss: 0.615 | Train Acc: 74.84%\n",
            "\t Val. Loss: 1.882 |  Val. Acc: 46.50%\n"
          ]
        },
        {
          "output_type": "stream",
          "name": "stderr",
          "text": [
            "100%|██████████| 174/174 [00:14<00:00, 11.68it/s, accuracy=0.812, loss=0.254]\n"
          ]
        },
        {
          "output_type": "stream",
          "name": "stdout",
          "text": [
            "Epoch: 10 | Epoch Time: 0m 15s\n",
            "\tTrain Loss: 0.482 | Train Acc: 81.16%\n",
            "\t Val. Loss: 2.079 |  Val. Acc: 47.38%\n"
          ]
        },
        {
          "output_type": "stream",
          "name": "stderr",
          "text": [
            "100%|██████████| 174/174 [00:14<00:00, 11.73it/s, accuracy=0.854, loss=0.13]\n"
          ]
        },
        {
          "output_type": "stream",
          "name": "stdout",
          "text": [
            "Epoch: 11 | Epoch Time: 0m 15s\n",
            "\tTrain Loss: 0.378 | Train Acc: 85.40%\n",
            "\t Val. Loss: 2.409 |  Val. Acc: 45.19%\n"
          ]
        },
        {
          "output_type": "stream",
          "name": "stderr",
          "text": [
            "100%|██████████| 174/174 [00:14<00:00, 11.69it/s, accuracy=0.901, loss=0.0395]\n"
          ]
        },
        {
          "output_type": "stream",
          "name": "stdout",
          "text": [
            "Epoch: 12 | Epoch Time: 0m 15s\n",
            "\tTrain Loss: 0.265 | Train Acc: 90.10%\n",
            "\t Val. Loss: 2.547 |  Val. Acc: 43.00%\n"
          ]
        },
        {
          "output_type": "stream",
          "name": "stderr",
          "text": [
            "100%|██████████| 174/174 [00:14<00:00, 11.68it/s, accuracy=0.919, loss=0.0777]\n"
          ]
        },
        {
          "output_type": "stream",
          "name": "stdout",
          "text": [
            "Epoch: 13 | Epoch Time: 0m 15s\n",
            "\tTrain Loss: 0.216 | Train Acc: 91.87%\n",
            "\t Val. Loss: 2.685 |  Val. Acc: 42.86%\n"
          ]
        },
        {
          "output_type": "stream",
          "name": "stderr",
          "text": [
            "100%|██████████| 174/174 [00:14<00:00, 11.69it/s, accuracy=0.92, loss=0.022]\n"
          ]
        },
        {
          "output_type": "stream",
          "name": "stdout",
          "text": [
            "Epoch: 14 | Epoch Time: 0m 15s\n",
            "\tTrain Loss: 0.205 | Train Acc: 91.98%\n",
            "\t Val. Loss: 2.727 |  Val. Acc: 47.23%\n"
          ]
        },
        {
          "output_type": "stream",
          "name": "stderr",
          "text": [
            "100%|██████████| 174/174 [00:14<00:00, 11.70it/s, accuracy=0.943, loss=0.0469]\n"
          ]
        },
        {
          "output_type": "stream",
          "name": "stdout",
          "text": [
            "Epoch: 15 | Epoch Time: 0m 15s\n",
            "\tTrain Loss: 0.155 | Train Acc: 94.30%\n",
            "\t Val. Loss: 3.003 |  Val. Acc: 49.13%\n"
          ]
        },
        {
          "output_type": "stream",
          "name": "stderr",
          "text": [
            "100%|██████████| 174/174 [00:14<00:00, 11.71it/s, accuracy=0.956, loss=0.0149]\n"
          ]
        },
        {
          "output_type": "stream",
          "name": "stdout",
          "text": [
            "Epoch: 16 | Epoch Time: 0m 15s\n",
            "\tTrain Loss: 0.125 | Train Acc: 95.58%\n",
            "\t Val. Loss: 3.091 |  Val. Acc: 46.50%\n"
          ]
        },
        {
          "output_type": "stream",
          "name": "stderr",
          "text": [
            "100%|██████████| 174/174 [00:14<00:00, 11.73it/s, accuracy=0.964, loss=0.00667]\n"
          ]
        },
        {
          "output_type": "stream",
          "name": "stdout",
          "text": [
            "Epoch: 17 | Epoch Time: 0m 15s\n",
            "\tTrain Loss: 0.102 | Train Acc: 96.38%\n",
            "\t Val. Loss: 3.213 |  Val. Acc: 46.36%\n"
          ]
        },
        {
          "output_type": "stream",
          "name": "stderr",
          "text": [
            "100%|██████████| 174/174 [00:14<00:00, 11.70it/s, accuracy=0.969, loss=0.0254]\n"
          ]
        },
        {
          "output_type": "stream",
          "name": "stdout",
          "text": [
            "Epoch: 18 | Epoch Time: 0m 15s\n",
            "\tTrain Loss: 0.076 | Train Acc: 96.94%\n",
            "\t Val. Loss: 3.561 |  Val. Acc: 48.54%\n"
          ]
        },
        {
          "output_type": "stream",
          "name": "stderr",
          "text": [
            "100%|██████████| 174/174 [00:14<00:00, 11.68it/s, accuracy=0.973, loss=0.00182]\n"
          ]
        },
        {
          "output_type": "stream",
          "name": "stdout",
          "text": [
            "Epoch: 19 | Epoch Time: 0m 15s\n",
            "\tTrain Loss: 0.069 | Train Acc: 97.28%\n",
            "\t Val. Loss: 3.654 |  Val. Acc: 47.96%\n"
          ]
        },
        {
          "output_type": "stream",
          "name": "stderr",
          "text": [
            "100%|██████████| 174/174 [00:14<00:00, 11.68it/s, accuracy=0.977, loss=0.00308]\n"
          ]
        },
        {
          "output_type": "stream",
          "name": "stdout",
          "text": [
            "Epoch: 20 | Epoch Time: 0m 15s\n",
            "\tTrain Loss: 0.059 | Train Acc: 97.73%\n",
            "\t Val. Loss: 3.990 |  Val. Acc: 47.96%\n"
          ]
        },
        {
          "output_type": "stream",
          "name": "stderr",
          "text": [
            "100%|██████████| 174/174 [00:14<00:00, 11.69it/s, accuracy=0.976, loss=0.0041]\n"
          ]
        },
        {
          "output_type": "stream",
          "name": "stdout",
          "text": [
            "Epoch: 21 | Epoch Time: 0m 15s\n",
            "\tTrain Loss: 0.066 | Train Acc: 97.60%\n",
            "\t Val. Loss: 4.109 |  Val. Acc: 44.61%\n"
          ]
        },
        {
          "output_type": "stream",
          "name": "stderr",
          "text": [
            "100%|██████████| 174/174 [00:14<00:00, 11.69it/s, accuracy=0.975, loss=0.017]\n"
          ]
        },
        {
          "output_type": "stream",
          "name": "stdout",
          "text": [
            "Epoch: 22 | Epoch Time: 0m 15s\n",
            "\tTrain Loss: 0.075 | Train Acc: 97.49%\n",
            "\t Val. Loss: 3.413 |  Val. Acc: 45.63%\n"
          ]
        },
        {
          "output_type": "stream",
          "name": "stderr",
          "text": [
            "100%|██████████| 174/174 [00:14<00:00, 11.70it/s, accuracy=0.979, loss=0.00105]\n"
          ]
        },
        {
          "output_type": "stream",
          "name": "stdout",
          "text": [
            "Epoch: 23 | Epoch Time: 0m 15s\n",
            "\tTrain Loss: 0.061 | Train Acc: 97.86%\n",
            "\t Val. Loss: 3.616 |  Val. Acc: 47.08%\n"
          ]
        },
        {
          "output_type": "stream",
          "name": "stderr",
          "text": [
            "100%|██████████| 174/174 [00:14<00:00, 11.72it/s, accuracy=0.988, loss=0.00367]\n"
          ]
        },
        {
          "output_type": "stream",
          "name": "stdout",
          "text": [
            "Epoch: 24 | Epoch Time: 0m 15s\n",
            "\tTrain Loss: 0.033 | Train Acc: 98.81%\n",
            "\t Val. Loss: 4.159 |  Val. Acc: 47.23%\n"
          ]
        },
        {
          "output_type": "stream",
          "name": "stderr",
          "text": [
            "100%|██████████| 174/174 [00:14<00:00, 11.69it/s, accuracy=0.991, loss=0.000215]\n"
          ]
        },
        {
          "output_type": "stream",
          "name": "stdout",
          "text": [
            "Epoch: 25 | Epoch Time: 0m 15s\n",
            "\tTrain Loss: 0.022 | Train Acc: 99.06%\n",
            "\t Val. Loss: 4.417 |  Val. Acc: 49.56%\n"
          ]
        },
        {
          "output_type": "stream",
          "name": "stderr",
          "text": [
            "100%|██████████| 174/174 [00:14<00:00, 11.68it/s, accuracy=0.988, loss=0.00061]\n"
          ]
        },
        {
          "output_type": "stream",
          "name": "stdout",
          "text": [
            "Epoch: 26 | Epoch Time: 0m 15s\n",
            "\tTrain Loss: 0.035 | Train Acc: 98.81%\n",
            "\t Val. Loss: 4.014 |  Val. Acc: 48.83%\n"
          ]
        },
        {
          "output_type": "stream",
          "name": "stderr",
          "text": [
            "100%|██████████| 174/174 [00:14<00:00, 11.67it/s, accuracy=0.981, loss=0.344]\n"
          ]
        },
        {
          "output_type": "stream",
          "name": "stdout",
          "text": [
            "Epoch: 27 | Epoch Time: 0m 15s\n",
            "\tTrain Loss: 0.053 | Train Acc: 98.07%\n",
            "\t Val. Loss: 4.092 |  Val. Acc: 46.50%\n"
          ]
        },
        {
          "output_type": "stream",
          "name": "stderr",
          "text": [
            "100%|██████████| 174/174 [00:14<00:00, 11.68it/s, accuracy=0.982, loss=0.00119]\n"
          ]
        },
        {
          "output_type": "stream",
          "name": "stdout",
          "text": [
            "Epoch: 28 | Epoch Time: 0m 15s\n",
            "\tTrain Loss: 0.054 | Train Acc: 98.22%\n",
            "\t Val. Loss: 3.835 |  Val. Acc: 45.92%\n"
          ]
        },
        {
          "output_type": "stream",
          "name": "stderr",
          "text": [
            "100%|██████████| 174/174 [00:14<00:00, 11.68it/s, accuracy=0.987, loss=0.000826]\n"
          ]
        },
        {
          "output_type": "stream",
          "name": "stdout",
          "text": [
            "Epoch: 29 | Epoch Time: 0m 15s\n",
            "\tTrain Loss: 0.035 | Train Acc: 98.70%\n",
            "\t Val. Loss: 4.188 |  Val. Acc: 46.50%\n"
          ]
        },
        {
          "output_type": "stream",
          "name": "stderr",
          "text": [
            "100%|██████████| 174/174 [00:14<00:00, 11.68it/s, accuracy=0.988, loss=0.000399]\n"
          ]
        },
        {
          "output_type": "stream",
          "name": "stdout",
          "text": [
            "Epoch: 30 | Epoch Time: 0m 15s\n",
            "\tTrain Loss: 0.032 | Train Acc: 98.77%\n",
            "\t Val. Loss: 4.229 |  Val. Acc: 47.08%\n"
          ]
        }
      ],
      "source": [
        "import time\n",
        "\n",
        "n_epochs=30\n",
        "def epoch_time(start_time, end_time):\n",
        "    elapsed_time = end_time - start_time\n",
        "    elapsed_mins = int(elapsed_time / 60)\n",
        "    elapsed_secs = int(elapsed_time - (elapsed_mins * 60))\n",
        "    return elapsed_mins, elapsed_secs\n",
        "\n",
        "his_train_loss=list()\n",
        "his_train_acc= list()\n",
        "his_val_loss=list()\n",
        "his_val_acc=list()\n",
        "\n",
        "for epoch in range(n_epochs):\n",
        "    start_time = time.time()\n",
        "    train_loss, train_acc = train(model, train_dataloader, optim, loss_fn, device)\n",
        "    valid_loss, valid_acc= evaluate(model, val_dataloader, loss_fn, device)\n",
        "    end_time = time.time()\n",
        "\n",
        "    epoch_mins, epoch_secs = epoch_time(start_time, end_time)\n",
        "    his_train_loss.append(train_loss)\n",
        "    his_train_acc.append(train_acc)\n",
        "    his_val_loss.append(valid_loss)\n",
        "    his_val_acc.append(valid_acc)\n",
        "\n",
        "\n",
        "    print(f\"Epoch: {epoch+1:02} | Epoch Time: {epoch_mins}m {epoch_secs}s\")\n",
        "    print(f\"\\tTrain Loss: {train_loss:.3f} | Train Acc: {train_acc*100:.2f}%\")\n",
        "    print(f\"\\t Val. Loss: {valid_loss:.3f} |  Val. Acc: {valid_acc*100:.2f}%\")\n"
      ]
    },
    {
      "cell_type": "markdown",
      "source": [
        "### Visualize After Training"
      ],
      "metadata": {
        "id": "c7u8Zvq2jS8J"
      }
    },
    {
      "cell_type": "code",
      "execution_count": 64,
      "metadata": {
        "id": "-l7rG7dzT-9B",
        "colab": {
          "base_uri": "https://localhost:8080/",
          "height": 342
        },
        "outputId": "5aa9de5c-ee83-450c-8ff2-96e8121939e4"
      },
      "outputs": [
        {
          "output_type": "display_data",
          "data": {
            "text/plain": [
              "<Figure size 1000x300 with 2 Axes>"
            ],
            "image/png": "[encoded data removed]"
          },
          "metadata": {}
        }
      ],
      "source": [
        "    import seaborn as sns\n",
        "\n",
        "    sns.set()\n",
        "    plt.figure(figsize=(10,3))\n",
        "    epochs = range(1, n_epochs + 1)\n",
        "\n",
        "    plt.subplot(1,2,1)\n",
        "    plt.plot(epochs, his_train_loss, label='Training Loss')\n",
        "    plt.plot(epochs, his_val_loss, label='Validation Loss')\n",
        "    plt.title(\"LOSS\")\n",
        "    plt.xlabel('Epochs')\n",
        "    plt.ylabel('Loss')\n",
        "    plt.legend()\n",
        "\n",
        "\n",
        "\n",
        "    plt.subplot(1,2,2)\n",
        "    plt.plot(epochs, his_train_acc, label='Training Acc')\n",
        "    plt.plot(epochs, his_val_acc, label='Validation Acc')\n",
        "    plt.title(\"Accuruncy\")\n",
        "    plt.xlabel('Epochs')\n",
        "    plt.ylabel('Acc')\n",
        "    plt.legend()\n",
        "    plt.show()"
      ]
    },
    {
      "cell_type": "markdown",
      "source": [
        "### Save model"
      ],
      "metadata": {
        "id": "tFe87qDtkSOS"
      }
    },
    {
      "cell_type": "code",
      "source": [
        "torch.save(model.state_dict(), \"/content/drive/MyDrive/Pattern Recognition/lab02/model.pt\")\n",
        "\n",
        "## load model\n",
        "# model.load_state_dict(torch.load('/content/drive/MyDrive/Pattern Recognition/lab02/model.pt'))"
      ],
      "metadata": {
        "id": "2we7ip6wkG93"
      },
      "execution_count": 89,
      "outputs": []
    },
    {
      "cell_type": "markdown",
      "source": [
        "## Evaluation"
      ],
      "metadata": {
        "id": "Crv8WZxhjbsh"
      }
    },
    {
      "cell_type": "markdown",
      "source": [
        "### Evaluate the trained model on the testing set"
      ],
      "metadata": {
        "id": "7Cwqx60BlVP0"
      }
    },
    {
      "cell_type": "code",
      "execution_count": 65,
      "metadata": {
        "colab": {
          "base_uri": "https://localhost:8080/"
        },
        "id": "Rchv1G4999r9",
        "outputId": "d1ca0a8f-1014-4869-c2ab-58ea2c43cd90"
      },
      "outputs": [
        {
          "output_type": "stream",
          "name": "stdout",
          "text": [
            "Test Loss: 4.036 | Test Acc: 48.77%\n"
          ]
        }
      ],
      "source": [
        "test_loss, test_acc = evaluate(model, test_dataloader, loss_fn, device)\n",
        "print(f\"Test Loss: {test_loss:.3f} | Test Acc: {test_acc*100:.2f}%\")"
      ]
    },
    {
      "cell_type": "markdown",
      "source": [
        "###  Report accuracy, precision, recall, and F1 score"
      ],
      "metadata": {
        "id": "iEwqwM-glXRn"
      }
    },
    {
      "cell_type": "code",
      "source": [
        "\n",
        "y_pred=[]\n",
        "y_true=[]\n",
        "\n",
        "model.eval()\n",
        "\n",
        "with torch.no_grad():\n",
        "    for batch in test_dataloader:\n",
        "        feedbacks, _ = batch[\"inputs\"]\n",
        "        feedbacks = feedbacks.to(device)\n",
        "\n",
        "        logits = model(feedbacks)\n",
        "        labels = batch[\"labels\"].to(device)\n",
        "\n",
        "        _, preds = torch.max(logits, dim=1)\n",
        "\n",
        "        y_pred+=(list(preds.to('cpu').detach().numpy()))\n",
        "        y_true += list(labels.to('cpu').detach().numpy())"
      ],
      "metadata": {
        "id": "NgdaNc9SNTEb"
      },
      "execution_count": 66,
      "outputs": []
    },
    {
      "cell_type": "code",
      "source": [
        "from sklearn.metrics import classification_report\n",
        "\n",
        "target_names = ['Anger','Disgust','Enjoyment','Fear','Other','Sadness','Surprise']\n",
        "print(classification_report(y_true, y_pred, target_names=target_names))"
      ],
      "metadata": {
        "colab": {
          "base_uri": "https://localhost:8080/"
        },
        "id": "jD2BgVMfNURN",
        "outputId": "bff35723-1106-405a-906e-04d09cd01afe"
      },
      "execution_count": 67,
      "outputs": [
        {
          "output_type": "stream",
          "name": "stdout",
          "text": [
            "              precision    recall  f1-score   support\n",
            "\n",
            "       Anger       0.26      0.28      0.27        40\n",
            "     Disgust       0.39      0.48      0.43       132\n",
            "   Enjoyment       0.68      0.57      0.62       193\n",
            "        Fear       0.60      0.57      0.58        46\n",
            "       Other       0.38      0.43      0.41       129\n",
            "     Sadness       0.51      0.52      0.51       116\n",
            "    Surprise       0.52      0.32      0.40        37\n",
            "\n",
            "    accuracy                           0.49       693\n",
            "   macro avg       0.48      0.45      0.46       693\n",
            "weighted avg       0.50      0.49      0.49       693\n",
            "\n"
          ]
        }
      ]
    },
    {
      "cell_type": "markdown",
      "source": [
        "### Analyze any misclassifications"
      ],
      "metadata": {
        "id": "H5meSWN5ljnP"
      }
    },
    {
      "cell_type": "code",
      "source": [
        "import matplotlib.pyplot as plt\n",
        "from sklearn.datasets import make_classification\n",
        "from sklearn.metrics import confusion_matrix, ConfusionMatrixDisplay\n",
        "\n",
        "\n",
        "dic_label = {0:'Anger',\n",
        "            1:'Disgust',\n",
        "             2:'Enjoyment',\n",
        "             3:'Fear',\n",
        "             4:'Other',\n",
        "             5:'Sadness',\n",
        "             6:'Surprise'}\n",
        "y1_true=[dic_label.get(item, item) for item in y_true]\n",
        "y1_pred=[dic_label.get(item, item) for item in y_pred]\n",
        "sns.reset_defaults()\n",
        "cm = confusion_matrix(y1_true, y1_pred)\n",
        "disp = ConfusionMatrixDisplay(confusion_matrix=cm,display_labels=target_names)\n",
        "disp.plot(xticks_rotation='vertical')\n",
        "plt.show()"
      ],
      "metadata": {
        "colab": {
          "base_uri": "https://localhost:8080/",
          "height": 510
        },
        "id": "jFJEe4RaUBy7",
        "outputId": "bbf94ed1-f66e-41a3-baaa-9dfb0990fb0b"
      },
      "execution_count": 70,
      "outputs": [
        {
          "output_type": "display_data",
          "data": {
            "text/plain": [
              "<Figure size 640x480 with 2 Axes>"
            ],
            "image/png": "[encoded data removed]"
          },
          "metadata": {}
        }
      ]
    },
    {
      "cell_type": "markdown",
      "source": [
        "Dựa vào confusion matrix ta có thể thấy được rằng Việc khó khăn trong việc phân biệt một số label với nhau. Chẳn hạn như \"Anger\" và \"Disgust\" có mức độ nhầm lẫn với nhau cao, trong khi \"Anger\" thì chỉ có dự đoán đúng là 11, mà lại nhầm lẫn với \"Disgust\" là 16. Bởi vì \"Anger\" và \"Disgust\" có các đặc điểm tưởng đồng với nhau. Bên cạnh đó cũng còn nhiều các label nhầm lẫn với nhau: \"Enjoyment\" với \"Other\",.... Bên cạnh đó việc không cân bằng data của các labels cũng ảnh hưởng đến kết quả."
      ],
      "metadata": {
        "id": "-cJrSY1Pf5pL"
      }
    },
    {
      "cell_type": "markdown",
      "source": [
        "Model đã bị overfitting.\n",
        "\n",
        "Kết quả chưa thật sự tốt do bị ảnh hưởng nhiều yếu tố từ tập dữ liệu:\n",
        "  - Về các label của dữ liệu:\n",
        "      + Sự tương đồng đặc điểm của các lớp:  'Disgust','Fear','Anger' (hay là  'Enjoyment', 'Surprise')  khiến cho khó khăn trong việc train/evaluate của model. ví dụ:[\"công nhận sáng tạo thật đấy\",\"Enjoyment\"] phân biệt giữa label \"Enjoyment\" và  \"Surprise\" thì thật sự khó khăn.\n",
        "  - Về số lượng: Deep learning thì cần số lượng lớn dữ liệu để train, nhưng tập dữ liệu này được xem là ít.\n",
        "\n",
        "  - Về chất lượng của data: Label của data chưa thật sự tốt khi việc đánh label của data có nhiều sai sót. Và không cân bằng của các label\n",
        "\n",
        "Bên cạnh đó cũng có nguyên nhân về cấu trúc model chưa thật sự tốt, hoặc dùng các transfer learning chưa hiệu quả. Theo [paper_UIT_VSMEC](https://paperswithcode.com/paper/a-simple-and-efficient-ensemble-classifier/review/). khi dùng BiLSTM+ Word2vec300 thì F1 là 56.16%. Trong khi mô hình cài đặt BiLSTM+ Word2vec100 Acc: ~49%."
      ],
      "metadata": {
        "id": "0FtGefo6Rdid"
      }
    },
    {
      "cell_type": "markdown",
      "source": [
        "## Hyperparameter"
      ],
      "metadata": {
        "id": "JBT2e8egp8op"
      }
    },
    {
      "cell_type": "code",
      "source": [
        "\n",
        "# Hyperparameter Tuning Bacsic\n",
        "learning_rates = [1e-4, 1e-3, 5e-3]\n",
        "num_layers_values = [2, 3]\n",
        "hidden_units_values = [128,256]\n",
        "dropout_values = [0.3, 0.5]\n",
        "n_epochs=10\n",
        "best_accuracy = 0.0\n",
        "best_hyperparameters = {}\n",
        "\n",
        "for lr in learning_rates:\n",
        "    for num_layers in num_layers_values:\n",
        "        for hidden_units in hidden_units_values:\n",
        "            for dropout in dropout_values:\n",
        "\n",
        "              model = get_model(vocab=vocabulary, word_embedding=word_embeddings, embedding_dim=100,\n",
        "                    hidden_dim=hidden_units, n_layers=num_layers, n_labels=7, bidirectional=True, dropout=dropout, device=device)\n",
        "              class_weights=balanced_weight()\n",
        "\n",
        "              optim = torch.optim.AdamW(model.parameters(), lr=lr)\n",
        "              loss_fn = torch.nn.CrossEntropyLoss(weight=class_weights)\n",
        "              print(\"___\"*20)\n",
        "              print(f\"\\t Lr: {lr}|num_layers: {num_layers}  | hidden_units: {hidden_units}|dropout:{dropout} \")\n",
        "              for epoch in range(n_epochs):\n",
        "                  start_time = time.time()\n",
        "                  train_loss, train_acc = train(model, train_dataloader, optim, loss_fn, device)\n",
        "                  valid_loss, valid_acc= evaluate(model, val_dataloader, loss_fn, device)\n",
        "                  end_time = time.time()\n",
        "\n",
        "                  epoch_mins, epoch_secs = epoch_time(start_time, end_time)\n",
        "                  print(f\"Epoch: {epoch+1:02} | Epoch Time: {epoch_mins}m {epoch_secs}s\")\n",
        "                  print(f\"\\tTrain Loss: {train_loss:.3f} | Train Acc: {train_acc*100:.2f}%\")\n",
        "                  print(f\"\\t Val. Loss: {valid_loss:.3f} |  Val. Acc: {valid_acc*100:.2f}%\")\n",
        "\n",
        "              test_loss, test_acc = evaluate(model, test_dataloader, loss_fn, device)\n",
        "                # Print and store results\n",
        "              print(f'Hyperparameters: Learning Rate={lr}, Num Layers={num_layers}, Hidden Units={hidden_units}, Dropout={dropout}')\n",
        "              print(f'Test Accuracy: {test_acc:.4f}')\n",
        "\n",
        "              if test_acc > best_accuracy:\n",
        "                  best_accuracy = test_acc\n",
        "                  best_hyperparameters = {\n",
        "                      'learning_rate': lr,\n",
        "                      'num_layers': num_layers,\n",
        "                      'hidden_units': hidden_units,\n",
        "                      'dropout': dropout\n",
        "                  }\n",
        "\n"
      ],
      "metadata": {
        "id": "DgC1G4zSqn6j",
        "colab": {
          "base_uri": "https://localhost:8080/",
          "height": 1000
        },
        "outputId": "311f4b93-fae5-46dd-bab6-ad9cf15098fa"
      },
      "execution_count": 100,
      "outputs": [
        {
          "output_type": "stream",
          "name": "stdout",
          "text": [
            "____________________________________________________________\n",
            "\t Lr: 0.0001|num_layers: 2  | hidden_units: 128|dropout:0.3 \n"
          ]
        },
        {
          "output_type": "stream",
          "name": "stderr",
          "text": [
            "100%|██████████| 174/174 [00:11<00:00, 14.76it/s, accuracy=0.187, loss=1.91]\n"
          ]
        },
        {
          "output_type": "stream",
          "name": "stdout",
          "text": [
            "Epoch: 01 | Epoch Time: 0m 11s\n",
            "\tTrain Loss: 1.945 | Train Acc: 18.67%\n",
            "\t Val. Loss: 1.937 |  Val. Acc: 22.59%\n"
          ]
        },
        {
          "output_type": "stream",
          "name": "stderr",
          "text": [
            "100%|██████████| 174/174 [00:11<00:00, 15.10it/s, accuracy=0.199, loss=1.93]\n"
          ]
        },
        {
          "output_type": "stream",
          "name": "stdout",
          "text": [
            "Epoch: 02 | Epoch Time: 0m 11s\n",
            "\tTrain Loss: 1.938 | Train Acc: 19.92%\n",
            "\t Val. Loss: 1.920 |  Val. Acc: 21.57%\n"
          ]
        },
        {
          "output_type": "stream",
          "name": "stderr",
          "text": [
            "100%|██████████| 174/174 [00:11<00:00, 14.96it/s, accuracy=0.203, loss=1.95]\n"
          ]
        },
        {
          "output_type": "stream",
          "name": "stdout",
          "text": [
            "Epoch: 03 | Epoch Time: 0m 11s\n",
            "\tTrain Loss: 1.926 | Train Acc: 20.31%\n",
            "\t Val. Loss: 1.913 |  Val. Acc: 21.87%\n"
          ]
        },
        {
          "output_type": "stream",
          "name": "stderr",
          "text": [
            "100%|██████████| 174/174 [00:11<00:00, 15.01it/s, accuracy=0.196, loss=1.84]\n"
          ]
        },
        {
          "output_type": "stream",
          "name": "stdout",
          "text": [
            "Epoch: 04 | Epoch Time: 0m 11s\n",
            "\tTrain Loss: 1.911 | Train Acc: 19.57%\n",
            "\t Val. Loss: 1.875 |  Val. Acc: 12.83%\n"
          ]
        },
        {
          "output_type": "stream",
          "name": "stderr",
          "text": [
            "100%|██████████| 174/174 [00:12<00:00, 14.02it/s, accuracy=0.132, loss=1.82]\n"
          ]
        },
        {
          "output_type": "stream",
          "name": "stdout",
          "text": [
            "Epoch: 05 | Epoch Time: 0m 12s\n",
            "\tTrain Loss: 1.861 | Train Acc: 13.16%\n",
            "\t Val. Loss: 1.847 |  Val. Acc: 10.35%\n"
          ]
        },
        {
          "output_type": "stream",
          "name": "stderr",
          "text": [
            "100%|██████████| 174/174 [00:12<00:00, 14.34it/s, accuracy=0.131, loss=1.75]\n"
          ]
        },
        {
          "output_type": "stream",
          "name": "stdout",
          "text": [
            "Epoch: 06 | Epoch Time: 0m 12s\n",
            "\tTrain Loss: 1.784 | Train Acc: 13.12%\n",
            "\t Val. Loss: 1.815 |  Val. Acc: 12.54%\n"
          ]
        },
        {
          "output_type": "stream",
          "name": "stderr",
          "text": [
            "100%|██████████| 174/174 [00:12<00:00, 14.34it/s, accuracy=0.168, loss=1.69]\n"
          ]
        },
        {
          "output_type": "stream",
          "name": "stdout",
          "text": [
            "Epoch: 07 | Epoch Time: 0m 12s\n",
            "\tTrain Loss: 1.716 | Train Acc: 16.76%\n",
            "\t Val. Loss: 1.815 |  Val. Acc: 13.85%\n"
          ]
        },
        {
          "output_type": "stream",
          "name": "stderr",
          "text": [
            "100%|██████████| 174/174 [00:11<00:00, 15.10it/s, accuracy=0.183, loss=1.67]\n"
          ]
        },
        {
          "output_type": "stream",
          "name": "stdout",
          "text": [
            "Epoch: 08 | Epoch Time: 0m 11s\n",
            "\tTrain Loss: 1.663 | Train Acc: 18.33%\n",
            "\t Val. Loss: 1.835 |  Val. Acc: 14.58%\n"
          ]
        },
        {
          "output_type": "stream",
          "name": "stderr",
          "text": [
            "100%|██████████| 174/174 [00:11<00:00, 15.22it/s, accuracy=0.238, loss=1.53]\n"
          ]
        },
        {
          "output_type": "stream",
          "name": "stdout",
          "text": [
            "Epoch: 09 | Epoch Time: 0m 11s\n",
            "\tTrain Loss: 1.574 | Train Acc: 23.76%\n",
            "\t Val. Loss: 1.863 |  Val. Acc: 15.60%\n"
          ]
        },
        {
          "output_type": "stream",
          "name": "stderr",
          "text": [
            "100%|██████████| 174/174 [00:11<00:00, 15.18it/s, accuracy=0.28, loss=1.43]\n"
          ]
        },
        {
          "output_type": "stream",
          "name": "stdout",
          "text": [
            "Epoch: 10 | Epoch Time: 0m 11s\n",
            "\tTrain Loss: 1.512 | Train Acc: 28.01%\n",
            "\t Val. Loss: 1.893 |  Val. Acc: 15.45%\n",
            "Hyperparameters: Learning Rate=0.0001, Num Layers=2, Hidden Units=128, Dropout=0.3\n",
            "Test Accuracy: 0.1804\n",
            "____________________________________________________________\n",
            "\t Lr: 0.0001|num_layers: 2  | hidden_units: 128|dropout:0.5 \n"
          ]
        },
        {
          "output_type": "stream",
          "name": "stderr",
          "text": [
            "100%|██████████| 174/174 [00:11<00:00, 15.07it/s, accuracy=0.192, loss=1.9]\n"
          ]
        },
        {
          "output_type": "stream",
          "name": "stdout",
          "text": [
            "Epoch: 01 | Epoch Time: 0m 11s\n",
            "\tTrain Loss: 1.944 | Train Acc: 19.18%\n",
            "\t Val. Loss: 1.938 |  Val. Acc: 22.01%\n"
          ]
        },
        {
          "output_type": "stream",
          "name": "stderr",
          "text": [
            "100%|██████████| 174/174 [00:11<00:00, 15.09it/s, accuracy=0.219, loss=1.89]\n"
          ]
        },
        {
          "output_type": "stream",
          "name": "stdout",
          "text": [
            "Epoch: 02 | Epoch Time: 0m 11s\n",
            "\tTrain Loss: 1.940 | Train Acc: 21.86%\n",
            "\t Val. Loss: 1.927 |  Val. Acc: 22.16%\n"
          ]
        },
        {
          "output_type": "stream",
          "name": "stderr",
          "text": [
            "100%|██████████| 174/174 [00:11<00:00, 15.16it/s, accuracy=0.214, loss=1.89]\n"
          ]
        },
        {
          "output_type": "stream",
          "name": "stdout",
          "text": [
            "Epoch: 03 | Epoch Time: 0m 11s\n",
            "\tTrain Loss: 1.931 | Train Acc: 21.36%\n",
            "\t Val. Loss: 1.914 |  Val. Acc: 22.16%\n"
          ]
        },
        {
          "output_type": "stream",
          "name": "stderr",
          "text": [
            "100%|██████████| 174/174 [00:11<00:00, 15.18it/s, accuracy=0.19, loss=1.82]\n"
          ]
        },
        {
          "output_type": "stream",
          "name": "stdout",
          "text": [
            "Epoch: 04 | Epoch Time: 0m 11s\n",
            "\tTrain Loss: 1.925 | Train Acc: 18.98%\n",
            "\t Val. Loss: 1.910 |  Val. Acc: 20.70%\n"
          ]
        },
        {
          "output_type": "stream",
          "name": "stderr",
          "text": [
            "100%|██████████| 174/174 [00:11<00:00, 15.09it/s, accuracy=0.174, loss=1.88]\n"
          ]
        },
        {
          "output_type": "stream",
          "name": "stdout",
          "text": [
            "Epoch: 05 | Epoch Time: 0m 11s\n",
            "\tTrain Loss: 1.908 | Train Acc: 17.43%\n",
            "\t Val. Loss: 1.912 |  Val. Acc: 21.87%\n"
          ]
        },
        {
          "output_type": "stream",
          "name": "stderr",
          "text": [
            "100%|██████████| 174/174 [00:11<00:00, 14.89it/s, accuracy=0.15, loss=1.81]\n"
          ]
        },
        {
          "output_type": "stream",
          "name": "stdout",
          "text": [
            "Epoch: 06 | Epoch Time: 0m 11s\n",
            "\tTrain Loss: 1.876 | Train Acc: 15.00%\n",
            "\t Val. Loss: 1.870 |  Val. Acc: 10.35%\n"
          ]
        },
        {
          "output_type": "stream",
          "name": "stderr",
          "text": [
            "100%|██████████| 174/174 [00:11<00:00, 14.95it/s, accuracy=0.121, loss=1.89]\n"
          ]
        },
        {
          "output_type": "stream",
          "name": "stdout",
          "text": [
            "Epoch: 07 | Epoch Time: 0m 11s\n",
            "\tTrain Loss: 1.845 | Train Acc: 12.08%\n",
            "\t Val. Loss: 1.860 |  Val. Acc: 9.77%\n"
          ]
        },
        {
          "output_type": "stream",
          "name": "stderr",
          "text": [
            "100%|██████████| 174/174 [00:11<00:00, 15.17it/s, accuracy=0.146, loss=1.69]\n"
          ]
        },
        {
          "output_type": "stream",
          "name": "stdout",
          "text": [
            "Epoch: 08 | Epoch Time: 0m 11s\n",
            "\tTrain Loss: 1.812 | Train Acc: 14.64%\n",
            "\t Val. Loss: 1.856 |  Val. Acc: 10.35%\n"
          ]
        },
        {
          "output_type": "stream",
          "name": "stderr",
          "text": [
            "100%|██████████| 174/174 [00:11<00:00, 15.04it/s, accuracy=0.143, loss=1.77]\n"
          ]
        },
        {
          "output_type": "stream",
          "name": "stdout",
          "text": [
            "Epoch: 09 | Epoch Time: 0m 11s\n",
            "\tTrain Loss: 1.803 | Train Acc: 14.28%\n",
            "\t Val. Loss: 1.868 |  Val. Acc: 9.33%\n"
          ]
        },
        {
          "output_type": "stream",
          "name": "stderr",
          "text": [
            "100%|██████████| 174/174 [00:11<00:00, 15.10it/s, accuracy=0.189, loss=1.63]\n"
          ]
        },
        {
          "output_type": "stream",
          "name": "stdout",
          "text": [
            "Epoch: 10 | Epoch Time: 0m 11s\n",
            "\tTrain Loss: 1.762 | Train Acc: 18.89%\n",
            "\t Val. Loss: 1.855 |  Val. Acc: 10.35%\n",
            "Hyperparameters: Learning Rate=0.0001, Num Layers=2, Hidden Units=128, Dropout=0.5\n",
            "Test Accuracy: 0.1212\n",
            "____________________________________________________________\n",
            "\t Lr: 0.0001|num_layers: 2  | hidden_units: 256|dropout:0.3 \n"
          ]
        },
        {
          "output_type": "stream",
          "name": "stderr",
          "text": [
            "100%|██████████| 174/174 [00:12<00:00, 14.08it/s, accuracy=0.164, loss=1.92]\n"
          ]
        },
        {
          "output_type": "stream",
          "name": "stdout",
          "text": [
            "Epoch: 01 | Epoch Time: 0m 12s\n",
            "\tTrain Loss: 1.943 | Train Acc: 16.42%\n",
            "\t Val. Loss: 1.925 |  Val. Acc: 22.16%\n"
          ]
        },
        {
          "output_type": "stream",
          "name": "stderr",
          "text": [
            "100%|██████████| 174/174 [00:13<00:00, 13.34it/s, accuracy=0.19, loss=1.86]\n"
          ]
        },
        {
          "output_type": "stream",
          "name": "stdout",
          "text": [
            "Epoch: 02 | Epoch Time: 0m 13s\n",
            "\tTrain Loss: 1.927 | Train Acc: 19.03%\n",
            "\t Val. Loss: 1.910 |  Val. Acc: 21.14%\n"
          ]
        },
        {
          "output_type": "stream",
          "name": "stderr",
          "text": [
            " 91%|█████████ | 158/174 [00:11<00:01, 14.17it/s, accuracy=0.145, loss=1.99]\n"
          ]
        },
        {
          "output_type": "error",
          "ename": "KeyboardInterrupt",
          "evalue": "ignored",
          "traceback": [
            "\u001b[0;31m---------------------------------------------------------------------------\u001b[0m",
            "\u001b[0;31mKeyboardInterrupt\u001b[0m                         Traceback (most recent call last)",
            "\u001b[0;32m<ipython-input-100-c10370cca71e>\u001b[0m in \u001b[0;36m<cell line: 10>\u001b[0;34m()\u001b[0m\n\u001b[1;32m     23\u001b[0m               \u001b[0;32mfor\u001b[0m \u001b[0mepoch\u001b[0m \u001b[0;32min\u001b[0m \u001b[0mrange\u001b[0m\u001b[0;34m(\u001b[0m\u001b[0mn_epochs\u001b[0m\u001b[0;34m)\u001b[0m\u001b[0;34m:\u001b[0m\u001b[0;34m\u001b[0m\u001b[0;34m\u001b[0m\u001b[0m\n\u001b[1;32m     24\u001b[0m                   \u001b[0mstart_time\u001b[0m \u001b[0;34m=\u001b[0m \u001b[0mtime\u001b[0m\u001b[0;34m.\u001b[0m\u001b[0mtime\u001b[0m\u001b[0;34m(\u001b[0m\u001b[0;34m)\u001b[0m\u001b[0;34m\u001b[0m\u001b[0;34m\u001b[0m\u001b[0m\n\u001b[0;32m---> 25\u001b[0;31m                   \u001b[0mtrain_loss\u001b[0m\u001b[0;34m,\u001b[0m \u001b[0mtrain_acc\u001b[0m \u001b[0;34m=\u001b[0m \u001b[0mtrain\u001b[0m\u001b[0;34m(\u001b[0m\u001b[0mmodel\u001b[0m\u001b[0;34m,\u001b[0m \u001b[0mtrain_dataloader\u001b[0m\u001b[0;34m,\u001b[0m \u001b[0moptim\u001b[0m\u001b[0;34m,\u001b[0m \u001b[0mloss_fn\u001b[0m\u001b[0;34m,\u001b[0m \u001b[0mdevice\u001b[0m\u001b[0;34m)\u001b[0m\u001b[0;34m\u001b[0m\u001b[0;34m\u001b[0m\u001b[0m\n\u001b[0m\u001b[1;32m     26\u001b[0m                   \u001b[0mvalid_loss\u001b[0m\u001b[0;34m,\u001b[0m \u001b[0mvalid_acc\u001b[0m\u001b[0;34m=\u001b[0m \u001b[0mevaluate\u001b[0m\u001b[0;34m(\u001b[0m\u001b[0mmodel\u001b[0m\u001b[0;34m,\u001b[0m \u001b[0mval_dataloader\u001b[0m\u001b[0;34m,\u001b[0m \u001b[0mloss_fn\u001b[0m\u001b[0;34m,\u001b[0m \u001b[0mdevice\u001b[0m\u001b[0;34m)\u001b[0m\u001b[0;34m\u001b[0m\u001b[0;34m\u001b[0m\u001b[0m\n\u001b[1;32m     27\u001b[0m                   \u001b[0mend_time\u001b[0m \u001b[0;34m=\u001b[0m \u001b[0mtime\u001b[0m\u001b[0;34m.\u001b[0m\u001b[0mtime\u001b[0m\u001b[0;34m(\u001b[0m\u001b[0;34m)\u001b[0m\u001b[0;34m\u001b[0m\u001b[0;34m\u001b[0m\u001b[0m\n",
            "\u001b[0;32m<ipython-input-59-3ec44a04af25>\u001b[0m in \u001b[0;36mtrain\u001b[0;34m(model, dataloader, optimizer, criterion, device)\u001b[0m\n\u001b[1;32m     31\u001b[0m \u001b[0;34m\u001b[0m\u001b[0m\n\u001b[1;32m     32\u001b[0m         \u001b[0;31m# backward pass and update params\u001b[0m\u001b[0;34m\u001b[0m\u001b[0;34m\u001b[0m\u001b[0m\n\u001b[0;32m---> 33\u001b[0;31m         \u001b[0mloss\u001b[0m\u001b[0;34m.\u001b[0m\u001b[0mbackward\u001b[0m\u001b[0;34m(\u001b[0m\u001b[0;34m)\u001b[0m\u001b[0;34m\u001b[0m\u001b[0;34m\u001b[0m\u001b[0m\n\u001b[0m\u001b[1;32m     34\u001b[0m         \u001b[0;31m# torch.nn.utils.clip_grad_norm_(model.parameters(), 0.3)\u001b[0m\u001b[0;34m\u001b[0m\u001b[0;34m\u001b[0m\u001b[0m\n\u001b[1;32m     35\u001b[0m         \u001b[0moptimizer\u001b[0m\u001b[0;34m.\u001b[0m\u001b[0mstep\u001b[0m\u001b[0;34m(\u001b[0m\u001b[0;34m)\u001b[0m\u001b[0;34m\u001b[0m\u001b[0;34m\u001b[0m\u001b[0m\n",
            "\u001b[0;32m/usr/local/lib/python3.10/dist-packages/torch/_tensor.py\u001b[0m in \u001b[0;36mbackward\u001b[0;34m(self, gradient, retain_graph, create_graph, inputs)\u001b[0m\n\u001b[1;32m    490\u001b[0m                 \u001b[0minputs\u001b[0m\u001b[0;34m=\u001b[0m\u001b[0minputs\u001b[0m\u001b[0;34m,\u001b[0m\u001b[0;34m\u001b[0m\u001b[0;34m\u001b[0m\u001b[0m\n\u001b[1;32m    491\u001b[0m             )\n\u001b[0;32m--> 492\u001b[0;31m         torch.autograd.backward(\n\u001b[0m\u001b[1;32m    493\u001b[0m             \u001b[0mself\u001b[0m\u001b[0;34m,\u001b[0m \u001b[0mgradient\u001b[0m\u001b[0;34m,\u001b[0m \u001b[0mretain_graph\u001b[0m\u001b[0;34m,\u001b[0m \u001b[0mcreate_graph\u001b[0m\u001b[0;34m,\u001b[0m \u001b[0minputs\u001b[0m\u001b[0;34m=\u001b[0m\u001b[0minputs\u001b[0m\u001b[0;34m\u001b[0m\u001b[0;34m\u001b[0m\u001b[0m\n\u001b[1;32m    494\u001b[0m         )\n",
            "\u001b[0;32m/usr/local/lib/python3.10/dist-packages/torch/autograd/__init__.py\u001b[0m in \u001b[0;36mbackward\u001b[0;34m(tensors, grad_tensors, retain_graph, create_graph, grad_variables, inputs)\u001b[0m\n\u001b[1;32m    249\u001b[0m     \u001b[0;31m# some Python versions print out the first line of a multi-line function\u001b[0m\u001b[0;34m\u001b[0m\u001b[0;34m\u001b[0m\u001b[0m\n\u001b[1;32m    250\u001b[0m     \u001b[0;31m# calls in the traceback and some print out the last line\u001b[0m\u001b[0;34m\u001b[0m\u001b[0;34m\u001b[0m\u001b[0m\n\u001b[0;32m--> 251\u001b[0;31m     Variable._execution_engine.run_backward(  # Calls into the C++ engine to run the backward pass\n\u001b[0m\u001b[1;32m    252\u001b[0m         \u001b[0mtensors\u001b[0m\u001b[0;34m,\u001b[0m\u001b[0;34m\u001b[0m\u001b[0;34m\u001b[0m\u001b[0m\n\u001b[1;32m    253\u001b[0m         \u001b[0mgrad_tensors_\u001b[0m\u001b[0;34m,\u001b[0m\u001b[0;34m\u001b[0m\u001b[0;34m\u001b[0m\u001b[0m\n",
            "\u001b[0;31mKeyboardInterrupt\u001b[0m: "
          ]
        }
      ]
    },
    {
      "cell_type": "markdown",
      "source": [
        "**Do Vấn Đề Tài Nguyên Không Thể chạy một lần nên phải dùng nhiều tài nguyên khác nhau để train và Nâng Cao hơn trong việc tuning sau đó rút trích ra bảng tóm tắt**\n",
        "\n"
      ],
      "metadata": {
        "id": "K6oI4s45gEht"
      }
    },
    {
      "cell_type": "markdown",
      "source": [
        "|Model|Num_epochs|freeze Embedding|hidden_dim| n_layers|dropout|Test Accuruncy|\n",
        "|--|--|--|--|--|--|--|\n",
        "|BiLSTM+ Word2vec100|20|False|800|2|0.5|47.62|\n",
        "|BiLSTM+ Word2vec100|20|False|512|2|0.1|48.77|\n",
        "|BiLSTM+ Word2vec100|20|False|215|2|0.5|45.74|\n",
        "|BiLSTM+ Word2vec100|10|False|215|2|0.75|44.01|\n",
        "|BiLSTM+ Word2vec100|10|False|512|2|0.75|38.53|\n",
        "|BiLSTM+ Word2vec100|10|True|215|2|0.5|15.08|\n",
        "|BiLSTM+ Word2vec100|10|True|215|2|0.1|35.93|\n",
        "|BiLSTM+ Word2vec100|10|True|512|2|0.1|36.08|\n",
        "|BiLSTM+ Word2vec100|10|True|512|2|0.5|26.26|\n",
        "|BiLSTM+ Word2vec100|10|False|215|3|0.5|46.09|\n",
        "|BiLSTM+ Word2vec100|10|False|512|3|0.5|39.54|\n",
        "|BiLSTM+FastText|10|False|256|2|0.4|45.34|\n",
        "|BiLSTM+FastText|10|False|256|3|0.2|47.01|\n",
        "|LSTM+Word2vec|20|False|512|2|0.4|44.73|\n",
        "|LSTM+Word2vec|20|False|128|3|0.4|40.12|\n",
        "\n",
        "\n",
        "\n",
        "\n",
        "\n",
        "\n",
        "\n",
        "\n",
        "\n"
      ],
      "metadata": {
        "id": "PyLeLdHbgSx5"
      }
    },
    {
      "cell_type": "markdown",
      "source": [
        "Thông qua quá trình hyperparameter tuning thì có thể thấy rằng việc kết hợp mô hình BiLSTM+ Word2vec/FastText thì có thể làm cho val/test có acc là gần 50%. Khi đóng băng lớp embedding(không cập nhật trọng số cho embedding layer) thì model có vẻ không được tốt. Số Chiều hidden layer cao quá tốn khá nhiều thời gian để train nhưng kết quả cũng không khả quan hơn hẳn. Model đang gặp phải vấn đề Overfitting nên cần phải cho nó đơn giản không nên quá phức tạp. Cùng một tập các siêu tham số nhưng các lần chạy khác nhau cho kết quả khác nhau chênh lệch nhưng không quá 3% nguyên do là mỗi lần train thì trọng số khởi tạo sẽ khác nhau do đó dẫn đến việc khác nhau."
      ],
      "metadata": {
        "id": "bp-6z20K3XAR"
      }
    },
    {
      "cell_type": "markdown",
      "source": [
        "## Predict"
      ],
      "metadata": {
        "id": "hK3ggZ5ljoLC"
      }
    },
    {
      "cell_type": "code",
      "source": [
        "\n",
        "# device = torch.device(\"cuda\" if torch.cuda.is_available() else \"cpu\")\n",
        "\n",
        "# model = get_model(vocab=vocabulary, word_embedding=word_embeddings, embedding_dim=100,\n",
        "#                   hidden_dim=512, n_layers=2, n_labels=7, bidirectional=True, dropout=0.1, device=device)\n",
        "\n",
        "# model.load_state_dict(torch.load('/content/drive/MyDrive/Pattern Recognition/lab02/model.pt'))"
      ],
      "metadata": {
        "id": "hK721Qf5u4R9"
      },
      "execution_count": null,
      "outputs": []
    },
    {
      "cell_type": "code",
      "execution_count": 97,
      "metadata": {
        "id": "dEPXx2Pb-AyE"
      },
      "outputs": [],
      "source": [
        "def predict(model, vocab, device, input_text):\n",
        "    model.eval()\n",
        "    model.to(device)\n",
        "\n",
        "    sents=replace_list([input_text])\n",
        "    sents=normalize_strings(sents)\n",
        "    sents=remove_duplicate_emoji(sents)\n",
        "    sents=process_list_of_strings(sents)\n",
        "    sents=process_emoji(sents)\n",
        "    sents=process_emoji2(sents)\n",
        "    input_text=sents[0]\n",
        "\n",
        "    tokens = vocab.corpus_to_tensor([input_text])[0].view(1,-1)\n",
        "    tokens = tokens.to(device)\n",
        "    with torch.no_grad():\n",
        "        logits = model(tokens)\n",
        "        _, preds = torch.max(logits, dim=-1)\n",
        "        print(\"\\n Kết Quả: \",dic_label[ preds.item()])\n"
      ]
    },
    {
      "cell_type": "code",
      "execution_count": 98,
      "metadata": {
        "colab": {
          "base_uri": "https://localhost:8080/"
        },
        "id": "D4kgObRv-Du8",
        "outputId": "fcc3f81e-a6e9-4436-9a7f-251d0a8f1f6b"
      },
      "outputs": [
        {
          "output_type": "stream",
          "name": "stdout",
          "text": [
            "Tokenize the corpus...\n"
          ]
        },
        {
          "output_type": "stream",
          "name": "stderr",
          "text": [
            "100%|██████████| 1/1 [00:00<00:00, 747.25it/s]\n",
            "100%|██████████| 1/1 [00:00<00:00, 6009.03it/s]"
          ]
        },
        {
          "output_type": "stream",
          "name": "stdout",
          "text": [
            "\n",
            " Kết Quả:  Enjoyment\n"
          ]
        },
        {
          "output_type": "stream",
          "name": "stderr",
          "text": [
            "\n"
          ]
        }
      ],
      "source": [
        "predict(model, vocabulary, \"cuda:0\", \"Hôm nay trời thật đẹp :)))\")"
      ]
    },
    {
      "cell_type": "markdown",
      "source": [
        "## Discussion and Analysis"
      ],
      "metadata": {
        "id": "i6EboNvUW_sv"
      }
    },
    {
      "cell_type": "markdown",
      "source": [
        "**Các thách thức và hiểu biết trong quá trình thực hiện:**\n",
        "  - Thách thức:\n",
        "    + Về tập dữ liệu: Tập dữ liệu được cho thì có số lượng khá ít trong khi dùng deep learning. Bên cạnh đó thì tập dữ liệu không cân bằng giữa các label. Đặc điểm tương đồng để phân biệt giữa các label khá khó. Các từ ngữ trong chuỗi thì sai chính tả, viết tắt,...\n",
        "    + Về model: Cần tìm hiểu các cấu trúc cần triền khai model (LSTM, BiLSTM, GRU,..), các mô hình pretrain cho tiếng Việt chẳn hạn như (FastText, Word2Vec100/300,..). Chạy thử nhiều lần các model kết hợp với các preTrain.\n",
        "    + Tài Nguyên: Việc dùng Colab/Kaggle để chạy model thì khá tốn nhiều tài nguyên, và việc giới hạn GPU của Colab/Kaggle cũng gặp nhiều khó khăn.\n",
        "    + Bị hạn chế trong việc thử kết hợp các model với các transfer với nhau do tốn kém dung lượng, tài nguyên để thử.\n",
        "  - Hiểu biết đạt được: Sau nhiều khó khăn gặp phải thì đã giúp biết được thêm nhiều kiến thức hay, cách xử lý tốt, linh hoạt trong quá trình dùng GPU. Nắm bắt được quy trình thực hiện triển khai LSTM/BiLSTM/GRU, hiểu biết thêm về một số mô hình có sẵn như FastText, Word2vec100/300,.... Hiểu rõ được các vấn đề cần xử lý với dữ liệu dạng Text.  \n",
        "      "
      ],
      "metadata": {
        "id": "Pt1_WjwBXElG"
      }
    },
    {
      "cell_type": "markdown",
      "source": [
        "**Trực quan trong quá trình Training**"
      ],
      "metadata": {
        "id": "8M0O1yG4eXG5"
      }
    },
    {
      "cell_type": "markdown",
      "source": [
        "![image.png](data:image/png;base64,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)"
      ],
      "metadata": {
        "id": "2bfn6VEnrB2K"
      }
    },
    {
      "cell_type": "markdown",
      "source": [
        "Nhìn vào biểu đồ trên thì model đã bị overfit. Mặc dù thử nhiều cách để tránh Overfit nhưng việc này không thể tránh khỏi dù đã thử nhiều model khác nhau nhưng vẫn không cải thiện. Nguyên nhân như đã nói các mặt khó khăn ở trên."
      ],
      "metadata": {
        "id": "LyJNzHNpeVD3"
      }
    },
    {
      "cell_type": "markdown",
      "source": [
        "**Trực Quan Bằng confusion matrices**"
      ],
      "metadata": {
        "id": "w-yE8DeUrEnq"
      }
    },
    {
      "cell_type": "markdown",
      "source": [
        "![image.png](data:image/png;base64,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)"
      ],
      "metadata": {
        "id": "iF2cSB1orN9q"
      }
    },
    {
      "cell_type": "markdown",
      "source": [
        "Biểu đồ trên cho biết Model dự đoán khả năng chính xác của từng lớp dựa trên tập Test có sẵn."
      ],
      "metadata": {
        "id": "dMOvJw_7rrny"
      }
    },
    {
      "cell_type": "markdown",
      "source": [
        "**Tầm quan trọng của hyperparameter tuning**\n",
        "\n",
        "Điều chỉnh siêu tham số đóng vai trò quan trọng trong việc đạt được hiệu suất tốt của mô hình học máy. Siêu tham số là những tham số không phải được học từ dữ liệu mà phải được thiết lập trước quá trình đào tạo.\n",
        "\n",
        "Có rất nhiều siêu tham số trong quá trình train chẳn hạn như learning rate, số lớp hidden, số lớp layer, số chiều embedding,... Việc hyperparameter tuning giúp ta chọn được các siêu tham số phù hợp với model.\n",
        "\n",
        "Điều chỉnh siêu tham số giúp tìm ra cấu hình tối ưu nhất cho mô hình. Nếu chúng ta sử dụng các giá trị siêu tham số không phù hợp, mô hình có thể không đạt được hiệu suất tốt nhất hoặc thậm chí không hội tụ.\n",
        "\n",
        "Siêu tham số cũng đóng vai trò quan trọng trong việc kiểm soát overfitting  và underfitting của mô hình. Chẳng hạn, việc sử dụng các kỹ thuật như dropout có thể giúp ngăn chặn overfitting, nhưng cần được điều chỉnh đúng đắn để tránh gây ra underfitting."
      ],
      "metadata": {
        "id": "6XKdAn19fzyT"
      }
    },
    {
      "cell_type": "markdown",
      "source": [
        "**Các Đề Suất Cải Tiến**\n",
        "\n",
        "- Về Data Mở rộng dữ liệu nếu có thể để có thêm nhiều data. Thu thập tránh data bị mất cân bằng,..\n",
        "\n",
        "- Nâng cấp các kỹ thuật xử lý như xử lý các từ viết tắc (vd: \"dk\" -> \"được\"), sai vị trí dấu, map tất cả các emoji sang từ,..\n",
        "\n",
        "- Dùng các model mạnh hơn như BERT, Transformer,.. hoặc kết hợp các model với nhau như: CNN + fastText, GRU + CNN + BiLSTM + LSTM, BERT + CNN + BiLSTM + LSTM,...."
      ],
      "metadata": {
        "id": "cOQAi3UFh4Nt"
      }
    },
    {
      "cell_type": "markdown",
      "source": [
        "**CÁC KẾT QUẢ PHÂN TÍCH**\n",
        "\n",
        "Kết quả dựa trên tập Test\n",
        "\n",
        "||precision|recall|f1-score|support|\n",
        "|--|--|--|--|--|\n",
        "|Anger |0.26|0.28| 0.27|      40   |\n",
        "|Disgust  |     0.39   |   0.48    |  0.43   |    132|\n",
        "|Enjoyment |      0.68   |   0.57    |  0.62   |    193|\n",
        "|Fear |      0.60    |  0.57     | 0.58  |      46|\n",
        " | Other    |   0.38     | 0.43     | 0.41  |     129|\n",
        "|Sadness  |     0.51      |0.52   |   0.51    |   116|\n",
        "|Surprise   |    0.52   |   0.32 |     0.40 |       37       |\n",
        "\n",
        "- Accuracy Test: 48.77 %\n",
        "\n",
        "Mô hình bị Overfit"
      ],
      "metadata": {
        "id": "qIGHMO-O7z7Q"
      }
    },
    {
      "cell_type": "code",
      "source": [],
      "metadata": {
        "id": "BWQGyNC2f7UV"
      },
      "execution_count": null,
      "outputs": []
    },
    {
      "cell_type": "markdown",
      "source": [
        "**CÁC NỘI DUNG NẮM ĐƯỢC SAU LAB02**\n",
        "\n",
        "- Biết được thêm các kỹ thuật xử lý Text trước khi huấn luyện.\n",
        "- Biết cách xử lý data không cân bằng.\n",
        "- Nắm được quy trình cần triển khai trong lĩnh vực NLP(Natural Languge Processing).\n",
        "- Triển khai được mô hình RNN cơ bản: RNN, LSTM, BiLSTM, GRU,...\n",
        "- Biết kết hợp mô hình với một số một số mô hình embedding đã train sẵn: Word2vec100/300, FastText,..\n",
        "\n",
        "- Trãi Nghiệm được quá trình tuning có kinh nghiệm tốt hơn trong việc điều chỉnh các siêu tham số.\n",
        "- Nghiên cứu nguyên nhân giải pháp để tránh overfitting\n",
        "- Biết đánh giá hiệu suất của mô hình RNN trên dữ liệu và tìm hiểu cách hiểu quả mô hình trong việc dự đoán cảm xúc từ các câu văn tiếng Việt. Hiểu rõ hơn về confusion matrices.\n",
        "- Phát sinh thêm nhiều ý tưởng đối với các cách để cải tiến.\n",
        "\n",
        "\n"
      ],
      "metadata": {
        "id": "MaLuCfMRxi3J"
      }
    },
    {
      "cell_type": "code",
      "source": [],
      "metadata": {
        "id": "jbwr5ZAbxiV4"
      },
      "execution_count": null,
      "outputs": []
    }
  ],
  "metadata": {
    "colab": {
      "collapsed_sections": [
        "GU5gvl4CWJLG",
        "yiGP-rXG7463",
        "chb2K7NNBXRs",
        "DuRZpPeYe2st",
        "ULFlKMcV2D1u",
        "INlRKowYckLN",
        "7P-PdnuKifPf",
        "Cvt6qU-Iir1-",
        "7-YbN9H5ix18",
        "FbPh8P8ckmDX"
      ],
      "provenance": [],
      "toc_visible": true,
      "gpuType": "T4"
    },
    "kernelspec": {
      "display_name": "Python 3",
      "name": "python3"
    },
    "language_info": {
      "name": "python"
    },
    "accelerator": "GPU"
  },
  "nbformat": 4,
  "nbformat_minor": 0
}